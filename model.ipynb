{
 "cells": [
  {
   "cell_type": "markdown",
   "metadata": {},
   "source": [
    "Model: xgboost \\\\\n",
    "Features: kenpom \\\\\n",
    "Trainings sets:"
   ]
  },
  {
   "cell_type": "code",
   "execution_count": 57,
   "metadata": {
    "collapsed": false
   },
   "outputs": [],
   "source": [
    "import xgboost as xgb\n",
    "from xgboost.sklearn import XGBClassifier\n",
    "from sklearn.linear_model import LogisticRegression, LogisticRegressionCV\n",
    "from sklearn.cross_validation import PredefinedSplit, cross_val_score\n",
    "from sklearn.model_selection import StratifiedKFold\n",
    "from sklearn.grid_search import GridSearchCV\n",
    "import itertools\n",
    "import pandas as pd\n",
    "import numpy as np\n",
    "import random"
   ]
  },
  {
   "cell_type": "code",
   "execution_count": 73,
   "metadata": {
    "collapsed": false
   },
   "outputs": [
    {
     "data": {
      "text/plain": [
       "'i = 7\\nprint len(teams_from_kenpom[i])\\nprint len(teams_from_kaggle[i])\\nzip(teams_from_kenpom[i], teams_from_kaggle[i])'"
      ]
     },
     "execution_count": 73,
     "metadata": {},
     "output_type": "execute_result"
    }
   ],
   "source": [
    "data = pd.DataFrame.from_csv(\"kenpom_team_ratings.csv\")\n",
    "spellings = pd.DataFrame.from_csv(\"march_madness_2016_data/TeamSpellings.csv\")\n",
    "seeds = pd.DataFrame.from_csv(\"march_madness_2016_data/TourneySeeds.csv\")\n",
    "teams = pd.DataFrame.from_csv(\"march_madness_2016_data/teams.csv\")\n",
    "tourney_data = pd.DataFrame.from_csv(\"march_madness_2016_data/TourneyCompactResults.csv\")\n",
    "\n",
    "# Add names from kenpoms website\n",
    "names_to_add = {'mississippi valley st.':'1290',\n",
    "                'arkansas pine bluff':'1115',\n",
    "                'arkansas little rock':'1114',\n",
    "                'louisiana lafayette':'1418',\n",
    "                'cal st. bakersfield':'1167',\n",
    "                'illinois chicago':'1227',\n",
    "                'texas a&m corpus chris':'1394'}\n",
    "\n",
    "for name_to_add in names_to_add:\n",
    "    spellings.ix[name_to_add,:] = names_to_add[name_to_add]\n",
    "    \n",
    "a = data['Team'].copy()\n",
    "a.sort_values(axis=0)\n",
    "a.unique()\n",
    "b = pd.Series()\n",
    "for i, a_ in enumerate(a):\n",
    "    new = a_.split(\" \")\n",
    "    if new[-1].isdigit():\n",
    "        new = \" \".join(new[:-1])\n",
    "        b.set_value(i, new)\n",
    "    else:\n",
    "        b.set_value(i, a_)\n",
    "b = sorted(b.unique())\n",
    "\n",
    "years = range(2002,2016)\n",
    "teams_from_kenpom = [[] for _ in years]\n",
    "teams_from_kaggle = [[] for _ in years]\n",
    "\n",
    "for i, year in enumerate(years):\n",
    "    year_seeds = list(seeds.loc[str(year)]['Team'])\n",
    "    seeds_used = []\n",
    "    for b_ in b:\n",
    "        try:\n",
    "            team_id = spellings.loc[b_.lower()]\n",
    "            if int(team_id) in year_seeds and int(team_id) not in seeds_used:\n",
    "                teams_from_kenpom[i].append([b_, int(team_id)])\n",
    "                seeds_used.append(int(team_id))\n",
    "        except KeyError:\n",
    "            pass\n",
    "        \n",
    "for i, year in enumerate(years):\n",
    "    year_seeds = list(seeds.loc[str(year)]['Team'])\n",
    "    for seed in year_seeds:\n",
    "        index = seed - 1101\n",
    "        name = teams.iloc[index]\n",
    "        teams_from_kaggle[i].append([name[0], int(seed)])\n",
    "        \n",
    "for i in xrange(len(years)):\n",
    "    teams_from_kenpom[i].sort(key=lambda x: x[1])\n",
    "    teams_from_kaggle[i].sort(key=lambda x: x[1])\n",
    "    \n",
    "# Compare kaggle names to kenpom names to ensure that all teams are correctly saved\n",
    "\"\"\"i = 7\n",
    "print len(teams_from_kenpom[i])\n",
    "print len(teams_from_kaggle[i])\n",
    "zip(teams_from_kenpom[i], teams_from_kaggle[i])\"\"\""
   ]
  },
  {
   "cell_type": "code",
   "execution_count": 867,
   "metadata": {
    "collapsed": true
   },
   "outputs": [],
   "source": [
    "X = pd.DataFrame()\n",
    "Y = []\n",
    "cv_indices = []"
   ]
  },
  {
   "cell_type": "code",
   "execution_count": 868,
   "metadata": {
    "collapsed": true
   },
   "outputs": [],
   "source": [
    "features_to_include = ['AdjEM',\n",
    "                       'AdjO',\n",
    "                       'AdjD',\n",
    "                       'AdjT',\n",
    "                       'Wins',\n",
    "                       'Losses']\n",
    "features_to_include_both_teams = []\n",
    "for feature in features_to_include:\n",
    "    features_to_include_both_teams.append(feature + '_x')\n",
    "    features_to_include_both_teams.append(feature + '_y')"
   ]
  },
  {
   "cell_type": "code",
   "execution_count": 869,
   "metadata": {
    "collapsed": false
   },
   "outputs": [],
   "source": [
    "# Identify data to keep for cross-validation\n",
    "cv_years = [2014]\n",
    "\n",
    "index = 0\n",
    "\n",
    "for i, year in enumerate(years):\n",
    "    year_teams = pd.DataFrame(teams_from_kenpom[i])\n",
    "    year_teams.columns = ['Team', 'Team_ID']\n",
    "    year_data = data[data['Year'] == int(year)]\n",
    "    year_data = pd.merge(year_data, year_teams, on=['Team'])\n",
    "    year_results = tourney_data.loc[str(year)]\n",
    "    \n",
    "    year_data = year_data.rename(columns={'Team_ID':'Wteam'})\n",
    "    year_results = pd.merge(year_results, year_data, on='Wteam')\n",
    "    year_data = year_data.rename(columns={'Wteam':'Lteam'})\n",
    "    year_results = pd.merge(year_results, year_data, on='Lteam', how='outer')\n",
    "    year_results = year_results[year_results['Wteam'] == year_results['Wteam']]\n",
    "    \n",
    "    # Temporary, should consider ways to deal with missing data\n",
    "    year_results = year_results.dropna()\n",
    "    \n",
    "    y = year_results['Wscore'] - year_results['Lscore']\n",
    "    year_results = year_results[features_to_include_both_teams]\n",
    "    \n",
    "    X = X.append(year_results, ignore_index=True)\n",
    "    Y += list(y)\n",
    "\n",
    "    if year in cv_years:\n",
    "        indices_for_cv = range(index,index + len(y))\n",
    "        cv_indices += indices_for_cv\n",
    "        \n",
    "    index += len(y)"
   ]
  },
  {
   "cell_type": "code",
   "execution_count": 870,
   "metadata": {
    "collapsed": false
   },
   "outputs": [],
   "source": [
    "# Randomize the order of the teams\n",
    "switch_array = np.array([0] * (X.shape[0]/2) + [1] * (X.shape[0] - X.shape[0]/2))\n",
    "np.random.shuffle(switch_array)\n",
    "X_random = pd.DataFrame()\n",
    "Y_random = [-y if x == 0 else y for x,y in zip(switch_array, Y)]\n",
    "for feature in features_to_include:\n",
    "    X_random[feature + '_x'] = X[feature + '_x'] * switch_array + X[feature + '_y'] * (1 - switch_array)\n",
    "    X_random[feature + '_y'] = X[feature + '_x'] * (1 - switch_array) + X[feature + '_y'] * switch_array"
   ]
  },
  {
   "cell_type": "code",
   "execution_count": 871,
   "metadata": {
    "collapsed": true
   },
   "outputs": [],
   "source": [
    "Y = np.array(Y_random)\n",
    "X = X_random"
   ]
  },
  {
   "cell_type": "code",
   "execution_count": 872,
   "metadata": {
    "collapsed": false
   },
   "outputs": [],
   "source": [
    "class custom_xgb_grid_search:\n",
    "    \n",
    "    def __init__(self, X, Y):\n",
    "        self.X = X\n",
    "        self.Y = Y\n",
    "        self.Y_class = np.array([0 if y < 0 else 1 for y in Y])\n",
    "        self.eva = []\n",
    "    \n",
    "    def run_xgb_grid_search(self, params, loss_function, n_splits, num_boost_round, early_stopping=None, cv=None):\n",
    "        \"\"\"\n",
    "        Performs a grid search on a list of xgb parameters.\n",
    "        If no cross-validation indices are specified, the cross-validation will done using sklearn's 'StratifiedKFold'.\n",
    "        If cross-validation indices are specified, 'n_splits' must be set to the number of cross-validation folds in 'cv'.\n",
    "        \"\"\"\n",
    "        \n",
    "        # Stratify according to wins/losses rather than point spreads\n",
    "        if cv:\n",
    "            for cv_ in cv:\n",
    "                train_indices = range(0,len(self.Y))\n",
    "                test_indices = sorted(cv, reverse=True)\n",
    "                for index in test_indices:\n",
    "                    del train_indices[index]\n",
    "            splits = [(train_indices, test_indices)]\n",
    "        else:\n",
    "            skf = StratifiedKFold(n_splits=n_splits, shuffle=True)\n",
    "            splits = list(skf.split(self.X, self.Y_class))\n",
    "\n",
    "        # Convert data to 'DMatrix' type\n",
    "        X_ = xgb.DMatrix(self.X, label=self.Y)\n",
    "\n",
    "        # Find all parameter combinations and format list of parameters\n",
    "        param_combs = list(itertools.product(*[x[1] for x in params]))\n",
    "        param_dict = {}\n",
    "        param_list = [x[0] for x in params]\n",
    "        no_combs = len(param_combs)\n",
    "\n",
    "        loss_values = [[] for _ in xrange(no_combs)]\n",
    "        \n",
    "        min_loss_value = float('inf')\n",
    "        \n",
    "        print \"Fitting \" + str(no_combs) + \" parameter combinations.\"\n",
    "        \n",
    "        for i, param_comb in enumerate(param_combs):\n",
    "        \n",
    "            # Set parameters for current combination\n",
    "            for j, param in enumerate(param_list):\n",
    "                param_dict[param] = param_comb[j]\n",
    "\n",
    "            boost_rounds_left = num_boost_round\n",
    "            models = [None] * n_splits\n",
    "            \n",
    "            increase_no = 0\n",
    "            \n",
    "            last_test_loss = float('inf')\n",
    "            \n",
    "            while boost_rounds_left > 0:\n",
    "\n",
    "                splits_index = 0\n",
    "                losses_train = 0\n",
    "                losses_test = 0\n",
    "                \n",
    "                for train_index, test_index in splits:\n",
    "\n",
    "                    X_train = X_.slice(train_index)\n",
    "                    Y_train = self.Y[train_index]\n",
    "                    X_cv = X_.slice(test_index)\n",
    "                    Y_cv = self.Y[test_index]\n",
    "\n",
    "                    models[splits_index] = xgb.train(param_dict, X_train, num_boost_round=1, xgb_model=models[splits_index])\n",
    "\n",
    "                    preds = spread_to_percent(models[splits_index].predict(X_train))\n",
    "                    Y_train = [0 if y < 0 else 1 for y in Y_train]\n",
    "\n",
    "                    preds_cv = spread_to_percent(models[splits_index].predict(X_cv))\n",
    "                    Y_cv = [0 if y < 0 else 1 for y in Y_cv]\n",
    "                    \n",
    "                    losses_train += loss_function(Y_train, preds)\n",
    "                    losses_test += loss_function(Y_cv, preds_cv)\n",
    "                    \n",
    "                    splits_index += 1\n",
    "                \n",
    "                loss_value_train = losses_train / n_splits\n",
    "                loss_value_test = losses_test / n_splits\n",
    "                \n",
    "                loss_values[i].append( (loss_value_train, loss_value_test) )\n",
    "                \n",
    "                boost_rounds_left -= 1\n",
    "                \n",
    "                if loss_value_test < min_loss_value:\n",
    "                    min_loss_value = loss_value_test\n",
    "                    best_param = param_dict.copy()\n",
    "                    best_num_boost_round = num_boost_round - boost_rounds_left\n",
    "            \n",
    "                if loss_value_test <= last_test_loss:\n",
    "                    increase_no = 0\n",
    "                else:\n",
    "                    increase_no += 1\n",
    "                \n",
    "                if early_stopping:\n",
    "                    if increase_no == early_stopping:\n",
    "                        break\n",
    "            \n",
    "                last_test_loss = loss_value_test\n",
    "            \n",
    "            print \"Combination \" + str(i + 1) + \" completed.\"\n",
    "            \n",
    "        self.eva = pd.DataFrame(loss_values)\n",
    "        \n",
    "        return best_param, best_num_boost_round, min_loss_value"
   ]
  },
  {
   "cell_type": "code",
   "execution_count": 883,
   "metadata": {
    "collapsed": false
   },
   "outputs": [],
   "source": [
    "indices = list(set(range(X.shape[0])) - set(cv_indices))\n",
    "X_train = X.loc[indices,]\n",
    "X_cv = X.loc[cv_indices,]\n",
    "Y_train = Y[indices]\n",
    "Y_cv = Y[cv_indices]"
   ]
  },
  {
   "cell_type": "code",
   "execution_count": 878,
   "metadata": {
    "collapsed": false
   },
   "outputs": [],
   "source": [
    "X_train = xgb.DMatrix(X_train, Y_train)\n",
    "X_cv = xgb.DMatrix(X_cv, Y_cv)\n",
    "final_model = xgb.train(best_param, X_train, num_boost_round=best_num_boost_round)"
   ]
  },
  {
   "cell_type": "code",
   "execution_count": 879,
   "metadata": {
    "collapsed": false
   },
   "outputs": [
    {
     "name": "stdout",
     "output_type": "stream",
     "text": [
      "0.476648584349\n"
     ]
    }
   ],
   "source": [
    "preds_cv = spread_to_percent(final_model.predict(X_cv))\n",
    "Y_cv = [0 if y < 0 else 1 for y in Y_cv]\n",
    "print logloss(Y_cv, preds_cv)"
   ]
  },
  {
   "cell_type": "code",
   "execution_count": 874,
   "metadata": {
    "collapsed": false
   },
   "outputs": [],
   "source": [
    "custom_xgb = custom_xgb_grid_search(X_train, Y_train)"
   ]
  },
  {
   "cell_type": "code",
   "execution_count": 875,
   "metadata": {
    "collapsed": false
   },
   "outputs": [
    {
     "name": "stdout",
     "output_type": "stream",
     "text": [
      "Fitting 3 parameter combinations.\n",
      "Combination 1 completed.\n",
      "Combination 2 completed.\n",
      "Combination 3 completed.\n"
     ]
    }
   ],
   "source": [
    "best_param, best_num_boost_round, min_loss_value = custom_xgb.run_xgb_grid_search( \\\n",
    "                                    xgb_params, logloss, n_splits=30, num_boost_round=400, early_stopping=20, cv=None)"
   ]
  },
  {
   "cell_type": "code",
   "execution_count": 876,
   "metadata": {
    "collapsed": false
   },
   "outputs": [
    {
     "data": {
      "text/plain": [
       "({'colsample_bylevel': 1.0,\n",
       "  'colsample_bytree': 1.0,\n",
       "  'gamma': 0,\n",
       "  'learning_rate': 0.1,\n",
       "  'max_depth': 3,\n",
       "  'min_child_weight': 0.1,\n",
       "  'subsample': 1.0},\n",
       " 245,\n",
       " 0.44087611243697972)"
      ]
     },
     "execution_count": 876,
     "metadata": {},
     "output_type": "execute_result"
    }
   ],
   "source": [
    "best_param, best_num_boost_round, min_loss_value"
   ]
  },
  {
   "cell_type": "code",
   "execution_count": 877,
   "metadata": {
    "collapsed": false
   },
   "outputs": [
    {
     "data": {
      "image/png": "[encoded data removed]",
      "text/plain": [
       "<matplotlib.figure.Figure at 0xdf42f28>"
      ]
     },
     "metadata": {},
     "output_type": "display_data"
    }
   ],
   "source": [
    "import matplotlib.pyplot as plt\n",
    "i = 2\n",
    "plt.plot([x[0] for x in custom_xgb.eva.iloc[i]])\n",
    "plt.plot([x[1] for x in custom_xgb.eva.iloc[i]])\n",
    "plt.show()"
   ]
  },
  {
   "cell_type": "code",
   "execution_count": 841,
   "metadata": {
    "collapsed": false
   },
   "outputs": [],
   "source": [
    "xgb_params = [ \\\n",
    "    ('learning_rate', [0.1]),\n",
    "    ('min_child_weight', [0.1]),\n",
    "    ('subsample', [1.0]),\n",
    "    ('colsample_bytree', [1.0]),\n",
    "    ('colsample_bylevel', [1.0]),\n",
    "    ('gamma', [0]),\n",
    "    ('max_depth', [1, 2, 3])\n",
    "]"
   ]
  },
  {
   "cell_type": "code",
   "execution_count": 107,
   "metadata": {
    "collapsed": false
   },
   "outputs": [
    {
     "name": "stdout",
     "output_type": "stream",
     "text": [
      "Fitting 3 folds for each of 6 candidates, totalling 18 fits\n"
     ]
    },
    {
     "name": "stderr",
     "output_type": "stream",
     "text": [
      "[Parallel(n_jobs=8)]: Done  18 out of  18 | elapsed:   30.0s finished\n"
     ]
    },
    {
     "name": "stdout",
     "output_type": "stream",
     "text": [
      "{'colsample_bytree': 1.0, 'colsample_bylevel': 1.0, 'learning_rate': 0.1, 'min_child_weight': 0.1, 'n_estimators': 80, 'subsample': 0.1, 'max_depth': 3, 'gamma': 0}\n",
      "-150.929478138\n"
     ]
    }
   ],
   "source": [
    "xgb_ = XGBClassifier()\n",
    "\n",
    "xgb_params = {\n",
    "    'learning_rate':[0.1],\n",
    "    'n_estimators':[80, 90],\n",
    "    'min_child_weight':[0.1],\n",
    "    'subsample':[0.1],\n",
    "    'colsample_bytree':[1.0],\n",
    "    'colsample_bylevel':[1.0],\n",
    "    'gamma':[0],\n",
    "    'max_depth':[1, 3, 5]\n",
    "}\n",
    "\n",
    "grid = GridSearchCV(xgb_, xgb_params, scoring='mean_squared_error', cv=None, verbose=1, n_jobs=8)\n",
    "grid.fit(X, Y)\n",
    "print grid.best_params_\n",
    "print grid.best_score_"
   ]
  },
  {
   "cell_type": "code",
   "execution_count": 108,
   "metadata": {
    "collapsed": false
   },
   "outputs": [
    {
     "name": "stdout",
     "output_type": "stream",
     "text": [
      "10.0796273333\n",
      "49\n"
     ]
    }
   ],
   "source": [
    "best = grid.best_params_\n",
    "d_train = xgb.DMatrix(X, label=Y)\n",
    "a = xgb.cv(best, d_train, metrics=['rmse'], nfold=3, num_boost_round=100)\n",
    "print a['test-rmse-mean'].min()\n",
    "print a['test-rmse-mean'].argmin()"
   ]
  },
  {
   "cell_type": "code",
   "execution_count": 109,
   "metadata": {
    "collapsed": false
   },
   "outputs": [],
   "source": [
    "best_n_rounds = a['test-rmse-mean'].argmin()\n",
    "model = xgb.train(best, d_train, num_boost_round=best_n_rounds)"
   ]
  },
  {
   "cell_type": "code",
   "execution_count": 16,
   "metadata": {
    "collapsed": false
   },
   "outputs": [],
   "source": [
    "def spread_to_percent(spread):\n",
    "    return 1/(1 + 10 ** (-spread / 15))"
   ]
  },
  {
   "cell_type": "code",
   "execution_count": 15,
   "metadata": {
    "collapsed": true
   },
   "outputs": [],
   "source": [
    "import scipy as sp\n",
    "def logloss(act, pred):\n",
    "    epsilon = 1e-15\n",
    "    pred = sp.maximum(epsilon, pred)\n",
    "    pred = sp.minimum(1-epsilon, pred)\n",
    "    ll = sum(act*sp.log(pred) + sp.subtract(1,act)*sp.log(sp.subtract(1,pred)))\n",
    "    ll = ll * -1.0/len(act)\n",
    "    return ll"
   ]
  },
  {
   "cell_type": "code",
   "execution_count": 112,
   "metadata": {
    "collapsed": false
   },
   "outputs": [],
   "source": [
    "train_pred = xgb.DMatrix(X)\n",
    "preds = spread_to_percent(model.predict(train_pred))\n",
    "Y_ = [0 if y < 0 else 1 for y in Y]"
   ]
  },
  {
   "cell_type": "code",
   "execution_count": 113,
   "metadata": {
    "collapsed": false
   },
   "outputs": [
    {
     "data": {
      "text/plain": [
       "0.43438507691721928"
      ]
     },
     "execution_count": 113,
     "metadata": {},
     "output_type": "execute_result"
    }
   ],
   "source": [
    "logloss(Y_, preds)"
   ]
  },
  {
   "cell_type": "code",
   "execution_count": 114,
   "metadata": {
    "collapsed": false
   },
   "outputs": [],
   "source": [
    "cv_pred = xgb.DMatrix(X_cv)\n",
    "cv_preds = spread_to_percent(model.predict(cv_pred))\n",
    "Y_cv_ = [0 if y < 0 else 1 for y in Y_cv]"
   ]
  },
  {
   "cell_type": "code",
   "execution_count": 115,
   "metadata": {
    "collapsed": false
   },
   "outputs": [
    {
     "data": {
      "text/plain": [
       "0.477568577052979"
      ]
     },
     "execution_count": 115,
     "metadata": {},
     "output_type": "execute_result"
    }
   ],
   "source": [
    "logloss(Y_cv_, cv_preds)"
   ]
  },
  {
   "cell_type": "code",
   "execution_count": 116,
   "metadata": {
    "collapsed": false
   },
   "outputs": [
    {
     "data": {
      "text/plain": [
       "0.7412935323383084"
      ]
     },
     "execution_count": 116,
     "metadata": {},
     "output_type": "execute_result"
    }
   ],
   "source": [
    "#zip(cv_preds, Y_cv_)\n",
    "sum([1 if round(x) == y else 0 for x,y in zip(cv_preds, Y_cv_)]) / float(len(cv_preds))"
   ]
  },
  {
   "cell_type": "code",
   "execution_count": null,
   "metadata": {
    "collapsed": true
   },
   "outputs": [],
   "source": []
  }
 ],
 "metadata": {
  "anaconda-cloud": {},
  "kernelspec": {
   "display_name": "Python [conda root]",
   "language": "python",
   "name": "conda-root-py"
  },
  "language_info": {
   "codemirror_mode": {
    "name": "ipython",
    "version": 2
   },
   "file_extension": ".py",
   "mimetype": "text/x-python",
   "name": "python",
   "nbconvert_exporter": "python",
   "pygments_lexer": "ipython2",
   "version": "2.7.12"
  }
 },
 "nbformat": 4,
 "nbformat_minor": 1
}
