{
 "cells": [
  {
   "cell_type": "markdown",
   "metadata": {},
   "source": [
    "Model: xgboost \\\\\n",
    "Features: kenpom \\\\\n",
    "Trainings sets:"
   ]
  },
  {
   "cell_type": "code",
   "execution_count": 1,
   "metadata": {
    "collapsed": false
   },
   "outputs": [],
   "source": [
    "import xgboost as xgb\n",
    "from xgboost.sklearn import XGBClassifier\n",
    "from sklearn.linear_model import LogisticRegression, LogisticRegressionCV\n",
    "from sklearn.cross_validation import StratifiedKFold, PredefinedSplit, cross_val_score\n",
    "from sklearn.grid_search import GridSearchCV"
   ]
  },
  {
   "cell_type": "code",
   "execution_count": 2,
   "metadata": {
    "collapsed": true
   },
   "outputs": [],
   "source": [
    "import pandas as pd"
   ]
  },
  {
   "cell_type": "code",
   "execution_count": 41,
   "metadata": {
    "collapsed": true
   },
   "outputs": [],
   "source": [
    "import numpy as np"
   ]
  },
  {
   "cell_type": "code",
   "execution_count": 3,
   "metadata": {
    "collapsed": true
   },
   "outputs": [],
   "source": [
    "data = pd.DataFrame.from_csv(\"kenpom_team_ratings.csv\")"
   ]
  },
  {
   "cell_type": "code",
   "execution_count": 350,
   "metadata": {
    "collapsed": false
   },
   "outputs": [],
   "source": [
    "tourney_data = pd.DataFrame.from_csv(\"march_madness_2016_data/TourneyCompactResults.csv\")"
   ]
  },
  {
   "cell_type": "code",
   "execution_count": 193,
   "metadata": {
    "collapsed": true
   },
   "outputs": [],
   "source": [
    "teams = pd.DataFrame.from_csv(\"march_madness_2016_data/teams.csv\")"
   ]
  },
  {
   "cell_type": "code",
   "execution_count": 101,
   "metadata": {
    "collapsed": false
   },
   "outputs": [],
   "source": [
    "seeds = pd.DataFrame.from_csv(\"march_madness_2016_data/TourneySeeds.csv\")"
   ]
  },
  {
   "cell_type": "code",
   "execution_count": 1019,
   "metadata": {
    "collapsed": true
   },
   "outputs": [],
   "source": [
    "X = pd.DataFrame()\n",
    "Y = []"
   ]
  },
  {
   "cell_type": "code",
   "execution_count": 1020,
   "metadata": {
    "collapsed": true
   },
   "outputs": [],
   "source": [
    "features_to_include = ['OffenseAdjOE',\n",
    "                       'TempoAdjusted',\n",
    "                       'OffenseeFG%',\n",
    "                       'OffenseTO%',\n",
    "                       'OffenseOR%',\n",
    "                       '3P%',\n",
    "                       '2P%']\n",
    "features_to_include_both_teams = []\n",
    "for feature in features_to_include:\n",
    "    features_to_include_both_teams.append(feature + '_x')\n",
    "    features_to_include_both_teams.append(feature + '_y')"
   ]
  },
  {
   "cell_type": "code",
   "execution_count": 1021,
   "metadata": {
    "collapsed": true
   },
   "outputs": [],
   "source": [
    "# Hold out seasons as cross-validation, currently 2015\n",
    "X_cv = pd.DataFrame()\n",
    "Y_cv = []"
   ]
  },
  {
   "cell_type": "code",
   "execution_count": 1022,
   "metadata": {
    "collapsed": false
   },
   "outputs": [
    {
     "name": "stderr",
     "output_type": "stream",
     "text": [
      "c:\\toolkits\\anaconda2-4.2.0\\lib\\site-packages\\ipykernel\\__main__.py:5: SettingWithCopyWarning: \n",
      "A value is trying to be set on a copy of a slice from a DataFrame.\n",
      "Try using .loc[row_indexer,col_indexer] = value instead\n",
      "\n",
      "See the caveats in the documentation: http://pandas.pydata.org/pandas-docs/stable/indexing.html#indexing-view-versus-copy\n"
     ]
    }
   ],
   "source": [
    "for i, year in enumerate(years):\n",
    "    year_teams = pd.DataFrame(teams_from_kenpom[i])\n",
    "    year_teams.columns = ['Team', 'Team_ID']\n",
    "    year_data = data[data['Year'] == int(year)]\n",
    "    year_data['Team'] = year_data['Team'].apply(remove_seed)\n",
    "    year_data = pd.merge(year_data, year_teams, on=['Team'])\n",
    "    year_results = tourney_data.loc[str(year)]\n",
    "    \n",
    "    year_data = year_data.rename(columns={'Team_ID':'Wteam'})\n",
    "    year_results = pd.merge(year_results, year_data, on='Wteam')\n",
    "    year_data = year_data.rename(columns={'Wteam':'Lteam'})\n",
    "    year_results = pd.merge(year_results, year_data, on='Lteam', how='outer')\n",
    "    year_results = year_results[year_results['Wteam'] == year_results['Wteam']]\n",
    "    \n",
    "    # Temporary, should consider ways to deal with missing data\n",
    "    year_results = year_results.dropna()\n",
    "    \n",
    "    y = year_results['Wscore'] - year_results['Lscore']\n",
    "    year_results = year_results[features_to_include_both_teams]\n",
    "    \n",
    "    if year != 2015:\n",
    "        X = X.append(year_results, ignore_index=True)\n",
    "        Y += list(y)\n",
    "    else:\n",
    "        X_cv = X_cv.append(year_results, ignore_index=True)\n",
    "        Y_cv += list(y)\n"
   ]
  },
  {
   "cell_type": "code",
   "execution_count": 1023,
   "metadata": {
    "collapsed": true
   },
   "outputs": [],
   "source": [
    "import random"
   ]
  },
  {
   "cell_type": "code",
   "execution_count": 1024,
   "metadata": {
    "collapsed": false
   },
   "outputs": [],
   "source": [
    "# Randomize the order of the teams\n",
    "switch_array = np.array([0] * (X.shape[0]/2) + [1] * (X.shape[0] - X.shape[0]/2))\n",
    "np.random.shuffle(switch_array)\n",
    "X_random = pd.DataFrame()\n",
    "Y_random = [-y if x == 0 else y for x,y in zip(switch_array, Y)]\n",
    "for feature in features_to_include:\n",
    "    X_random[feature + '_x'] = X[feature + '_x'] * switch_array + X[feature + '_y'] * (1 - switch_array)\n",
    "    X_random[feature + '_y'] = X[feature + '_x'] * (1 - switch_array) + X[feature + '_y'] * switch_array\n",
    "\n",
    "switch_array = np.array([0] * (X_cv.shape[0]/2) + [1] * (X_cv.shape[0] - X_cv.shape[0]/2))\n",
    "np.random.shuffle(switch_array)\n",
    "X_cv_random = pd.DataFrame()\n",
    "Y_cv_random = [-y if x == 0 else y for x,y in zip(switch_array, Y_cv)]\n",
    "for feature in features_to_include:\n",
    "    X_cv_random[feature + '_x'] = X_cv[feature + '_x'] * switch_array + X_cv[feature + '_y'] * (1 - switch_array)\n",
    "    X_cv_random[feature + '_y'] = X_cv[feature + '_x'] * (1 - switch_array) + X_cv[feature + '_y'] * switch_array"
   ]
  },
  {
   "cell_type": "code",
   "execution_count": 1025,
   "metadata": {
    "collapsed": true
   },
   "outputs": [],
   "source": [
    "Y = Y_random\n",
    "X = X_random\n",
    "X_cv = X_cv_random\n",
    "Y_cv = Y_cv_random"
   ]
  },
  {
   "cell_type": "code",
   "execution_count": 1059,
   "metadata": {
    "collapsed": false
   },
   "outputs": [
    {
     "name": "stdout",
     "output_type": "stream",
     "text": [
      "Fitting 3 folds for each of 18 candidates, totalling 54 fits\n"
     ]
    },
    {
     "name": "stderr",
     "output_type": "stream",
     "text": [
      "[Parallel(n_jobs=8)]: Done  34 tasks      | elapsed:  1.4min\n",
      "[Parallel(n_jobs=8)]: Done  54 out of  54 | elapsed:  2.0min finished\n"
     ]
    },
    {
     "name": "stdout",
     "output_type": "stream",
     "text": [
      "{'colsample_bytree': 1.0, 'colsample_bylevel': 1.0, 'learning_rate': 0.1, 'min_child_weight': 0.1, 'n_estimators': 80, 'subsample': 0.1, 'max_depth': 2, 'gamma': 0}\n",
      "-191.316725979\n"
     ]
    }
   ],
   "source": [
    "xgb_ = XGBClassifier()\n",
    "\n",
    "xgb_params = {\n",
    "    'learning_rate':[0.1, 0.15],\n",
    "    'n_estimators':[60, 70, 80],\n",
    "    'min_child_weight':[0.1],\n",
    "    'subsample':[0.1],\n",
    "    'colsample_bytree':[1.0],\n",
    "    'colsample_bylevel':[1.0],\n",
    "    'gamma':[0],\n",
    "    'max_depth':[1, 2, 4]\n",
    "}\n",
    "\n",
    "grid = GridSearchCV(xgb_, xgb_params, scoring='mean_squared_error', cv=None, verbose=1, n_jobs=8)\n",
    "grid.fit(X, Y)\n",
    "print grid.best_params_\n",
    "print grid.best_score_"
   ]
  },
  {
   "cell_type": "code",
   "execution_count": 1060,
   "metadata": {
    "collapsed": false
   },
   "outputs": [
    {
     "name": "stdout",
     "output_type": "stream",
     "text": [
      "12.25279\n",
      "36\n"
     ]
    }
   ],
   "source": [
    "best = grid.best_params_\n",
    "d_train = xgb.DMatrix(X, label=Y)\n",
    "a = xgb.cv(best, d_train, metrics=['rmse'], nfold=3, num_boost_round=100)\n",
    "print a['test-rmse-mean'].min()\n",
    "print a['test-rmse-mean'].argmin()"
   ]
  },
  {
   "cell_type": "code",
   "execution_count": 1061,
   "metadata": {
    "collapsed": false
   },
   "outputs": [],
   "source": [
    "best_n_rounds = a['test-rmse-mean'].argmin()\n",
    "model = xgb.train(best, d_train, num_boost_round=best_n_rounds)"
   ]
  },
  {
   "cell_type": "code",
   "execution_count": 1062,
   "metadata": {
    "collapsed": false
   },
   "outputs": [],
   "source": [
    "def spread_to_percent(spread):\n",
    "    return 1/(1 + 10 ** (-spread / 15))"
   ]
  },
  {
   "cell_type": "code",
   "execution_count": 1063,
   "metadata": {
    "collapsed": true
   },
   "outputs": [],
   "source": [
    "import scipy as sp\n",
    "def logloss(act, pred):\n",
    "    epsilon = 1e-15\n",
    "    pred = sp.maximum(epsilon, pred)\n",
    "    pred = sp.minimum(1-epsilon, pred)\n",
    "    ll = sum(act*sp.log(pred) + sp.subtract(1,act)*sp.log(sp.subtract(1,pred)))\n",
    "    ll = ll * -1.0/len(act)\n",
    "    return ll"
   ]
  },
  {
   "cell_type": "code",
   "execution_count": 1064,
   "metadata": {
    "collapsed": false
   },
   "outputs": [],
   "source": [
    "train_pred = xgb.DMatrix(X)\n",
    "preds = spread_to_percent(model.predict(train_pred))\n",
    "Y_ = [0 if y < 0 else 1 for y in Y]"
   ]
  },
  {
   "cell_type": "code",
   "execution_count": 1065,
   "metadata": {
    "collapsed": false
   },
   "outputs": [
    {
     "data": {
      "text/plain": [
       "0.55615622472694126"
      ]
     },
     "execution_count": 1065,
     "metadata": {},
     "output_type": "execute_result"
    }
   ],
   "source": [
    "logloss(Y_, preds)"
   ]
  },
  {
   "cell_type": "code",
   "execution_count": 1066,
   "metadata": {
    "collapsed": true
   },
   "outputs": [],
   "source": [
    "cv_pred = xgb.DMatrix(X_cv)\n",
    "cv_preds = spread_to_percent(model.predict(cv_pred))\n",
    "Y_cv_ = [0 if y < 0 else 1 for y in Y_cv]"
   ]
  },
  {
   "cell_type": "code",
   "execution_count": 1067,
   "metadata": {
    "collapsed": false
   },
   "outputs": [
    {
     "data": {
      "text/plain": [
       "0.57836816304210403"
      ]
     },
     "execution_count": 1067,
     "metadata": {},
     "output_type": "execute_result"
    }
   ],
   "source": [
    "logloss(Y_cv_, cv_preds)"
   ]
  },
  {
   "cell_type": "code",
   "execution_count": 1078,
   "metadata": {
    "collapsed": false
   },
   "outputs": [
    {
     "data": {
      "text/plain": [
       "0.6417910447761194"
      ]
     },
     "execution_count": 1078,
     "metadata": {},
     "output_type": "execute_result"
    }
   ],
   "source": [
    "#zip(cv_preds, Y_cv_)\n",
    "sum([1 if round(x) == y else 0 for x,y in zip(cv_preds, Y_cv_)]) / float(len(cv_preds))"
   ]
  },
  {
   "cell_type": "code",
   "execution_count": 709,
   "metadata": {
    "collapsed": false
   },
   "outputs": [],
   "source": [
    "spellings = pd.DataFrame.from_csv(\"march_madness_2016_data/TeamSpellings.csv\")\n",
    "\n",
    "# Add names from kenpoms website\n",
    "names_to_add = {'mississippi valley st.':'1290',\n",
    "                'arkansas pine bluff':'1115',\n",
    "                'arkansas little rock':'1114',\n",
    "                'louisiana lafayette':'1418',\n",
    "                'cal st. bakersfield':'1167',\n",
    "                'illinois chicago':'1227',\n",
    "                'texas a&m corpus chris':'1394'}\n",
    "\n",
    "for name_to_add in names_to_add:\n",
    "    spellings.ix[name_to_add,:] = names_to_add[name_to_add]"
   ]
  },
  {
   "cell_type": "code",
   "execution_count": 625,
   "metadata": {
    "collapsed": true
   },
   "outputs": [],
   "source": [
    "def remove_seed(name):\n",
    "    split_name = name.split(\" \")\n",
    "    if split_name[-1].isdigit():\n",
    "        return \" \".join(split_name[:-1])\n",
    "    return name"
   ]
  },
  {
   "cell_type": "code",
   "execution_count": 710,
   "metadata": {
    "collapsed": false
   },
   "outputs": [],
   "source": [
    "a = data['Team'].copy()\n",
    "a.sort_values(axis=0)\n",
    "a.unique()\n",
    "b = pd.Series()\n",
    "for i, a_ in enumerate(a):\n",
    "    new = a_.split(\" \")\n",
    "    if new[-1].isdigit():\n",
    "        new = \" \".join(new[:-1])\n",
    "        b.set_value(i, new)\n",
    "    else:\n",
    "        b.set_value(i, a_)\n",
    "b = sorted(b.unique())"
   ]
  },
  {
   "cell_type": "code",
   "execution_count": 711,
   "metadata": {
    "collapsed": false
   },
   "outputs": [],
   "source": [
    "years = range(2002,2016)\n",
    "teams_from_kenpom = [[] for _ in years]\n",
    "teams_from_kaggle = [[] for _ in years]"
   ]
  },
  {
   "cell_type": "code",
   "execution_count": 712,
   "metadata": {
    "collapsed": false
   },
   "outputs": [],
   "source": [
    "for i, year in enumerate(years):\n",
    "    year_seeds = list(seeds.loc[str(year)]['Team'])\n",
    "    seeds_used = []\n",
    "    for b_ in b:\n",
    "        try:\n",
    "            team_id = spellings.loc[b_.lower()]\n",
    "            if int(team_id) in year_seeds and int(team_id) not in seeds_used:\n",
    "                teams_from_kenpom[i].append([b_, int(team_id)])\n",
    "                seeds_used.append(int(team_id))\n",
    "        except KeyError:\n",
    "            pass"
   ]
  },
  {
   "cell_type": "code",
   "execution_count": 713,
   "metadata": {
    "collapsed": false
   },
   "outputs": [],
   "source": [
    "for i, year in enumerate(years):\n",
    "    year_seeds = list(seeds.loc[str(year)]['Team'])\n",
    "    for seed in year_seeds:\n",
    "        index = seed - 1101\n",
    "        name = teams.iloc[index]\n",
    "        teams_from_kaggle[i].append([name[0], int(seed)])"
   ]
  },
  {
   "cell_type": "code",
   "execution_count": 714,
   "metadata": {
    "collapsed": false
   },
   "outputs": [],
   "source": [
    "for i in xrange(len(years)):\n",
    "    teams_from_kenpom[i].sort(key=lambda x: x[1])\n",
    "    teams_from_kaggle[i].sort(key=lambda x: x[1])"
   ]
  },
  {
   "cell_type": "code",
   "execution_count": 765,
   "metadata": {
    "collapsed": false
   },
   "outputs": [
    {
     "data": {
      "text/plain": [
       "'i = 13\\nprint len(teams_from_kenpom[i])\\nprint len(teams_from_kaggle[i])\\nzip(teams_from_kenpom[i], teams_from_kaggle[i])'"
      ]
     },
     "execution_count": 765,
     "metadata": {},
     "output_type": "execute_result"
    }
   ],
   "source": [
    "# Compare kaggle names to kenpom names to ensure that all teams are correctly saved\n",
    "\"\"\"i = 13\n",
    "print len(teams_from_kenpom[i])\n",
    "print len(teams_from_kaggle[i])\n",
    "zip(teams_from_kenpom[i], teams_from_kaggle[i])\"\"\""
   ]
  }
 ],
 "metadata": {
  "anaconda-cloud": {},
  "kernelspec": {
   "display_name": "Python [conda root]",
   "language": "python",
   "name": "conda-root-py"
  },
  "language_info": {
   "codemirror_mode": {
    "name": "ipython",
    "version": 2
   },
   "file_extension": ".py",
   "mimetype": "text/x-python",
   "name": "python",
   "nbconvert_exporter": "python",
   "pygments_lexer": "ipython2",
   "version": "2.7.12"
  }
 },
 "nbformat": 4,
 "nbformat_minor": 1
}
