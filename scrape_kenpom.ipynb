{
 "cells": [
  {
   "cell_type": "markdown",
   "metadata": {},
   "source": [
    "Script to scrape data from KenPom's website\n",
    "\n",
    "Created: 12/15/2016"
   ]
  },
  {
   "cell_type": "code",
   "execution_count": 135,
   "metadata": {
    "collapsed": false
   },
   "outputs": [],
   "source": [
    "# Load packages for this script\n",
    "import mechanize\n",
    "from bs4 import BeautifulSoup\n",
    "import urllib2 \n",
    "import cookielib\n",
    "import requests\n",
    "import pandas as pd\n",
    "import numpy as np\n",
    "import re\n",
    "import html5lib\n",
    "import time"
   ]
  },
  {
   "cell_type": "code",
   "execution_count": 136,
   "metadata": {
    "collapsed": true
   },
   "outputs": [],
   "source": [
    "def remove_seed(name):\n",
    "    split_name = name.split(\" \")\n",
    "    if split_name[-1].isdigit():\n",
    "        return \" \".join(split_name[:-1])\n",
    "    return name"
   ]
  },
  {
   "cell_type": "code",
   "execution_count": 137,
   "metadata": {
    "collapsed": false,
    "scrolled": true
   },
   "outputs": [
    {
     "name": "stdout",
     "output_type": "stream",
     "text": [
      "Scraping page http://kenpom.com/index.php\n",
      "Scraping page http://kenpom.com/summary.php\n",
      "Scraping page http://kenpom.com/stats.php\n",
      "Scraping page http://kenpom.com/pointdist.php\n",
      "Scraping page http://kenpom.com/height.php\n",
      "Scraping page http://kenpom.com/teamstats.php\n"
     ]
    }
   ],
   "source": [
    "def create_column_title(columns, year):\n",
    "    \"\"\"\n",
    "    Function to create column titles for the data during scraping.\n",
    "    \"\"\"\n",
    "    column_title = []\n",
    "    first_line = columns[0].find_all('th')\n",
    "    second_line = columns[1].find_all(\"th\")\n",
    "    if not second_line:\n",
    "        for x in first_line:\n",
    "            x_colspan = int(x['colspan']) if x.has_attr('colspan') else 1\n",
    "            column_title.append(x.text)\n",
    "            if x_colspan == 2:\n",
    "                column_title.append(x.text + 'Rank')\n",
    "    else:\n",
    "        count_first = 0\n",
    "        count_second = 0\n",
    "        count = 0\n",
    "        for x in first_line:\n",
    "            count_first += int(x['colspan']) if x.has_attr('colspan') else 1\n",
    "            while count_second < count_first:\n",
    "                y = second_line[count]\n",
    "                y_colspan = int(y['colspan']) if y.has_attr('colspan') else 1\n",
    "                count_second += y_colspan\n",
    "                column_title.append(x.text + y.text)\n",
    "                if y_colspan == 2:\n",
    "                    column_title.append(x.text + y.text + 'Rank')\n",
    "                count += 1\n",
    "    return column_title\n",
    "\n",
    "# Create a method that parses a given year and spits out a raw dataframe\n",
    "def import_raw_year(year, s):\n",
    "    \"\"\"\n",
    "    Imports raw data from a ken pom year into a dataframe.\n",
    "    \"\"\"\n",
    "    headers = {'User-Agent': 'Mozilla/5.0 (Windows NT 6.0; WOW64; rv:24.0) Gecko/20100101 Firefox/24.0'}\n",
    "    f = s.get(url_year(year), headers=headers)\n",
    "    soup = BeautifulSoup(f.text)\n",
    "    table_html = soup.find_all('table', {'id': 'ratings-table'})\n",
    "\n",
    "    thead = table_html[0].find_all('thead')\n",
    "    columns = soup.find_all('tr')\n",
    "\n",
    "    table = table_html[0]\n",
    "    for x in thead:\n",
    "        table = str(table).replace(str(x), '')\n",
    "\n",
    "    # Parsing and formatting\n",
    "    df = pd.read_html(table)[0]\n",
    "    df.columns = create_column_title(columns, year)\n",
    "    df = df[df['Team'] == df['Team']]\n",
    "    df['Year'] = int(year)\n",
    "    df['Team'] = df['Team'].apply(remove_seed)\n",
    "    \n",
    "    return df\n",
    "\n",
    "# Base url, and a lambda func to return url for a given year\n",
    "base_urls = ['http://kenpom.com/index.php', \\\n",
    "             'http://kenpom.com/summary.php', \\\n",
    "             'http://kenpom.com/stats.php', \\\n",
    "             'http://kenpom.com/pointdist.php', \\\n",
    "             'http://kenpom.com/height.php', \\\n",
    "             'http://kenpom.com/teamstats.php']\n",
    "\n",
    "# A dataframe for the data to be scraped\n",
    "df_final = None\n",
    "\n",
    "# Login to website before scraping\n",
    "payload = { 'email': 'john.ezekowitz@gmail.com', 'password': 'STEEEEVE', 'submit': 'Login!'}\n",
    "with requests.Session() as s:\n",
    "    p = s.post('http://kenpom.com/handlers/login_handler.php', data=payload)\n",
    "\n",
    "    for base_url in base_urls:\n",
    "        url_year = lambda x: '%s?y=%s' % (base_url, str(x))\n",
    "\n",
    "        print \"Scraping page \" + base_url\n",
    "        \n",
    "        if base_url == 'http://kenpom.com/height.php':\n",
    "            years = range(2007, 2018)\n",
    "        elif base_url == 'http://kenpom.com/pointdist.php':\n",
    "            years = range(2003, 2008)\n",
    "        else:\n",
    "            years = range(2002, 2018)\n",
    "\n",
    "        df = None\n",
    "        for x in years:\n",
    "            df = pd.merge(df, import_raw_year(x, s), how='outer') if df is not None else import_raw_year(years[0], s)\n",
    "            time.sleep(3)\n",
    "            \n",
    "        df_final = pd.merge(df_final, df, how='outer', on=['Team','Year','Conf']) if df_final is not None else df\n"
   ]
  },
  {
   "cell_type": "code",
   "execution_count": 139,
   "metadata": {
    "collapsed": false
   },
   "outputs": [],
   "source": [
    "# Split W-L column into wins and losses\n",
    "df_final = df_final[df_final['Team'] != 'Team']\n",
    "df_final['Wins'] = df_final['W-L'].apply(lambda x: int( str(x).split('-')[0] ))\n",
    "df_final['Losses'] = df_final['W-L'].apply(lambda x: int( str(x).split('-')[1] ))\n",
    "df_final.drop('W-L', inplace=True, axis=1)\n",
    "df_final = df_final.dropna(axis=1)"
   ]
  },
  {
   "cell_type": "code",
   "execution_count": 141,
   "metadata": {
    "collapsed": true
   },
   "outputs": [],
   "source": [
    "df_final.to_csv('kenpom_team_ratings.csv')"
   ]
  },
  {
   "cell_type": "code",
   "execution_count": null,
   "metadata": {
    "collapsed": true
   },
   "outputs": [],
   "source": []
  }
 ],
 "metadata": {
  "anaconda-cloud": {},
  "kernelspec": {
   "display_name": "Python [default]",
   "language": "python",
   "name": "python2"
  },
  "language_info": {
   "codemirror_mode": {
    "name": "ipython",
    "version": 2
   },
   "file_extension": ".py",
   "mimetype": "text/x-python",
   "name": "python",
   "nbconvert_exporter": "python",
   "pygments_lexer": "ipython2",
   "version": "2.7.12"
  }
 },
 "nbformat": 4,
 "nbformat_minor": 1
}
