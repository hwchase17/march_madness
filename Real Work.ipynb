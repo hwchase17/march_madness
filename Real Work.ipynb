{
 "metadata": {
  "kernelspec": {
   "display_name": "Python 2",
   "language": "python",
   "name": "python2"
  },
  "language_info": {
   "codemirror_mode": {
    "name": "ipython",
    "version": 2
   },
   "file_extension": ".py",
   "mimetype": "text/x-python",
   "name": "python",
   "nbconvert_exporter": "python",
   "pygments_lexer": "ipython2",
   "version": "2.7.10"
  },
  "name": ""
 },
 "nbformat": 3,
 "nbformat_minor": 0,
 "worksheets": [
  {
   "cells": [
    {
     "cell_type": "code",
     "collapsed": true,
     "input": [
      "import pandas as pd\n",
      "import numpy as np\n",
      "import random\n",
      "from time import time\n",
      "from operator import itemgetter\n",
      "from scipy.stats import randint as sp_randint\n",
      "\n",
      "from sklearn.grid_search import GridSearchCV, RandomizedSearchCV\n",
      "from sklearn.datasets import load_digits\n",
      "from sklearn.ensemble import RandomForestClassifier\n",
      "from sklearn.linear_model import Ridge\n",
      "from sklearn.linear_model import RidgeCV"
     ],
     "language": "python",
     "metadata": {},
     "outputs": [],
     "prompt_number": 1
    },
    {
     "cell_type": "code",
     "collapsed": true,
     "input": [
      "bigdata = pd.read_csv(\"RegularSeasonDetailedResults.csv\")"
     ],
     "language": "python",
     "metadata": {},
     "outputs": [],
     "prompt_number": 2
    },
    {
     "cell_type": "code",
     "collapsed": false,
     "input": [
      "bigdata.head()"
     ],
     "language": "python",
     "metadata": {},
     "outputs": [
      {
       "html": [
        "<div style=\"max-width:1500px;overflow:auto;\">\n",
        "<table border=\"1\" class=\"dataframe\">\n",
        "  <thead>\n",
        "    <tr style=\"text-align: right;\">\n",
        "      <th></th>\n",
        "      <th>Season</th>\n",
        "      <th>Daynum</th>\n",
        "      <th>Wteam</th>\n",
        "      <th>Wscore</th>\n",
        "      <th>Lteam</th>\n",
        "      <th>Lscore</th>\n",
        "      <th>Wloc</th>\n",
        "      <th>Numot</th>\n",
        "      <th>Wfgm</th>\n",
        "      <th>Wfga</th>\n",
        "      <th>...</th>\n",
        "      <th>Lfga3</th>\n",
        "      <th>Lftm</th>\n",
        "      <th>Lfta</th>\n",
        "      <th>Lor</th>\n",
        "      <th>Ldr</th>\n",
        "      <th>Last</th>\n",
        "      <th>Lto</th>\n",
        "      <th>Lstl</th>\n",
        "      <th>Lblk</th>\n",
        "      <th>Lpf</th>\n",
        "    </tr>\n",
        "  </thead>\n",
        "  <tbody>\n",
        "    <tr>\n",
        "      <th>0</th>\n",
        "      <td>2003</td>\n",
        "      <td>10</td>\n",
        "      <td>1104</td>\n",
        "      <td>68</td>\n",
        "      <td>1328</td>\n",
        "      <td>62</td>\n",
        "      <td>N</td>\n",
        "      <td>0</td>\n",
        "      <td>27</td>\n",
        "      <td>58</td>\n",
        "      <td>...</td>\n",
        "      <td>10</td>\n",
        "      <td>16</td>\n",
        "      <td>22</td>\n",
        "      <td>10</td>\n",
        "      <td>22</td>\n",
        "      <td>8</td>\n",
        "      <td>18</td>\n",
        "      <td>9</td>\n",
        "      <td>2</td>\n",
        "      <td>20</td>\n",
        "    </tr>\n",
        "    <tr>\n",
        "      <th>1</th>\n",
        "      <td>2003</td>\n",
        "      <td>10</td>\n",
        "      <td>1272</td>\n",
        "      <td>70</td>\n",
        "      <td>1393</td>\n",
        "      <td>63</td>\n",
        "      <td>N</td>\n",
        "      <td>0</td>\n",
        "      <td>26</td>\n",
        "      <td>62</td>\n",
        "      <td>...</td>\n",
        "      <td>24</td>\n",
        "      <td>9</td>\n",
        "      <td>20</td>\n",
        "      <td>20</td>\n",
        "      <td>25</td>\n",
        "      <td>7</td>\n",
        "      <td>12</td>\n",
        "      <td>8</td>\n",
        "      <td>6</td>\n",
        "      <td>16</td>\n",
        "    </tr>\n",
        "    <tr>\n",
        "      <th>2</th>\n",
        "      <td>2003</td>\n",
        "      <td>11</td>\n",
        "      <td>1266</td>\n",
        "      <td>73</td>\n",
        "      <td>1437</td>\n",
        "      <td>61</td>\n",
        "      <td>N</td>\n",
        "      <td>0</td>\n",
        "      <td>24</td>\n",
        "      <td>58</td>\n",
        "      <td>...</td>\n",
        "      <td>26</td>\n",
        "      <td>14</td>\n",
        "      <td>23</td>\n",
        "      <td>31</td>\n",
        "      <td>22</td>\n",
        "      <td>9</td>\n",
        "      <td>12</td>\n",
        "      <td>2</td>\n",
        "      <td>5</td>\n",
        "      <td>23</td>\n",
        "    </tr>\n",
        "    <tr>\n",
        "      <th>3</th>\n",
        "      <td>2003</td>\n",
        "      <td>11</td>\n",
        "      <td>1296</td>\n",
        "      <td>56</td>\n",
        "      <td>1457</td>\n",
        "      <td>50</td>\n",
        "      <td>N</td>\n",
        "      <td>0</td>\n",
        "      <td>18</td>\n",
        "      <td>38</td>\n",
        "      <td>...</td>\n",
        "      <td>22</td>\n",
        "      <td>8</td>\n",
        "      <td>15</td>\n",
        "      <td>17</td>\n",
        "      <td>20</td>\n",
        "      <td>9</td>\n",
        "      <td>19</td>\n",
        "      <td>4</td>\n",
        "      <td>3</td>\n",
        "      <td>23</td>\n",
        "    </tr>\n",
        "    <tr>\n",
        "      <th>4</th>\n",
        "      <td>2003</td>\n",
        "      <td>11</td>\n",
        "      <td>1400</td>\n",
        "      <td>77</td>\n",
        "      <td>1208</td>\n",
        "      <td>71</td>\n",
        "      <td>N</td>\n",
        "      <td>0</td>\n",
        "      <td>30</td>\n",
        "      <td>61</td>\n",
        "      <td>...</td>\n",
        "      <td>16</td>\n",
        "      <td>17</td>\n",
        "      <td>27</td>\n",
        "      <td>21</td>\n",
        "      <td>15</td>\n",
        "      <td>12</td>\n",
        "      <td>10</td>\n",
        "      <td>7</td>\n",
        "      <td>1</td>\n",
        "      <td>14</td>\n",
        "    </tr>\n",
        "  </tbody>\n",
        "</table>\n",
        "<p>5 rows \u00d7 34 columns</p>\n",
        "</div>"
       ],
       "metadata": {},
       "output_type": "pyout",
       "prompt_number": 3,
       "text": [
        "   Season  Daynum  Wteam  Wscore  Lteam  Lscore Wloc  Numot  Wfgm  Wfga ...   \\\n",
        "0    2003      10   1104      68   1328      62    N      0    27    58 ...    \n",
        "1    2003      10   1272      70   1393      63    N      0    26    62 ...    \n",
        "2    2003      11   1266      73   1437      61    N      0    24    58 ...    \n",
        "3    2003      11   1296      56   1457      50    N      0    18    38 ...    \n",
        "4    2003      11   1400      77   1208      71    N      0    30    61 ...    \n",
        "\n",
        "   Lfga3  Lftm  Lfta  Lor  Ldr  Last  Lto  Lstl  Lblk  Lpf  \n",
        "0     10    16    22   10   22     8   18     9     2   20  \n",
        "1     24     9    20   20   25     7   12     8     6   16  \n",
        "2     26    14    23   31   22     9   12     2     5   23  \n",
        "3     22     8    15   17   20     9   19     4     3   23  \n",
        "4     16    17    27   21   15    12   10     7     1   14  \n",
        "\n",
        "[5 rows x 34 columns]"
       ]
      }
     ],
     "prompt_number": 3
    },
    {
     "cell_type": "markdown",
     "metadata": {},
     "source": [
      "Get rate statistics because everyone knows rate statistics are better than count statistics"
     ]
    },
    {
     "cell_type": "code",
     "collapsed": false,
     "input": [
      "# Score Dif\n",
      "bigdata['dif'] = bigdata.Wscore-bigdata.Lscore\n",
      "# Pace\n",
      "bigdata['pace'] = (bigdata.Wfga+bigdata.Lfga - bigdata.Wor - bigdata.Lor+bigdata.Wto+bigdata.Lto+0.475*(bigdata.Wfta + bigdata.Lfta))/2\n",
      "# Offensive (and by the converse, defensive) rebounding percentage\n",
      "bigdata['Worp'] = bigdata.Wor/(bigdata.Ldr+bigdata.Wor)\n",
      "bigdata['Lorp'] = bigdata.Lor/(bigdata.Wdr+bigdata.Lor)\n",
      "# Turnover percentage\n",
      "bigdata['Wtop'] = bigdata.Wto/bigdata.pace\n",
      "bigdata['Ltop'] = bigdata.Lto/bigdata.pace\n",
      "# Assist percentage\n",
      "bigdata['Wastp'] = bigdata.Wast/bigdata.Wfgm\n",
      "bigdata['Lastp'] = bigdata.Last/bigdata.Lfgm\n",
      "# Shooting percentage\n",
      "bigdata['Wfgp'] = bigdata.Wfgm/bigdata.Wfga\n",
      "bigdata['Lfgp'] = bigdata.Lfgm/bigdata.Lfga\n",
      "# 3 pt percentage\n",
      "bigdata['Wfg3p'] = bigdata.Wfgm3/bigdata.Wfga3\n",
      "bigdata['Lfg3p'] = bigdata.Lfgm3/bigdata.Lfga3\n",
      "# Free throw shooting percentage (perhaps not needed?)\n",
      "bigdata['Wftp'] = bigdata.Wftm/bigdata.Wfta\n",
      "bigdata['Lftp'] = bigdata.Lftm/bigdata.Lfta\n",
      "# Steal percentage\n",
      "bigdata['Wstlp'] = bigdata.Wstl/bigdata.pace\n",
      "bigdata['Lstlp'] = bigdata.Lstl/bigdata.pace\n",
      "# Block percentage\n",
      "bigdata['Wblkp'] = bigdata.Wblk/bigdata.pace\n",
      "bigdata['Lblkp'] = bigdata.Lblk/bigdata.pace\n",
      "# 3 Point Rate\n",
      "bigdata['W3pr'] = bigdata.Wfga3/bigdata.Wfga\n",
      "bigdata['L3pr'] = bigdata.Lfga3/bigdata.Lfga\n",
      "# Free throw Rate\n",
      "bigdata['Wftr'] = bigdata.Wfta/bigdata.Wfga\n",
      "bigdata['Lftr'] = bigdata.Lfta/bigdata.Lfga\n",
      "# Offensive and Defensive overall\n",
      "bigdata['Wor'] = bigdata.Wscore/bigdata.pace\n",
      "bigdata['Lor'] = bigdata.Lscore/bigdata.pace"
     ],
     "language": "python",
     "metadata": {},
     "outputs": [],
     "prompt_number": 4
    },
    {
     "cell_type": "code",
     "collapsed": false,
     "input": [
      "bigdata.head()"
     ],
     "language": "python",
     "metadata": {
      "scrolled": true
     },
     "outputs": [
      {
       "html": [
        "<div style=\"max-width:1500px;overflow:auto;\">\n",
        "<table border=\"1\" class=\"dataframe\">\n",
        "  <thead>\n",
        "    <tr style=\"text-align: right;\">\n",
        "      <th></th>\n",
        "      <th>Season</th>\n",
        "      <th>Daynum</th>\n",
        "      <th>Wteam</th>\n",
        "      <th>Wscore</th>\n",
        "      <th>Lteam</th>\n",
        "      <th>Lscore</th>\n",
        "      <th>Wloc</th>\n",
        "      <th>Numot</th>\n",
        "      <th>Wfgm</th>\n",
        "      <th>Wfga</th>\n",
        "      <th>...</th>\n",
        "      <th>Wftp</th>\n",
        "      <th>Lftp</th>\n",
        "      <th>Wstlp</th>\n",
        "      <th>Lstlp</th>\n",
        "      <th>Wblkp</th>\n",
        "      <th>Lblkp</th>\n",
        "      <th>W3pr</th>\n",
        "      <th>L3pr</th>\n",
        "      <th>Wftr</th>\n",
        "      <th>Lftr</th>\n",
        "    </tr>\n",
        "  </thead>\n",
        "  <tbody>\n",
        "    <tr>\n",
        "      <th>0</th>\n",
        "      <td>2003</td>\n",
        "      <td>10</td>\n",
        "      <td>1104</td>\n",
        "      <td>68</td>\n",
        "      <td>1328</td>\n",
        "      <td>62</td>\n",
        "      <td>N</td>\n",
        "      <td>0</td>\n",
        "      <td>27</td>\n",
        "      <td>58</td>\n",
        "      <td>...</td>\n",
        "      <td>0.611111</td>\n",
        "      <td>0.727273</td>\n",
        "      <td>0.095238</td>\n",
        "      <td>0.122449</td>\n",
        "      <td>0.013605</td>\n",
        "      <td>0.027211</td>\n",
        "      <td>0.241379</td>\n",
        "      <td>0.188679</td>\n",
        "      <td>0.310345</td>\n",
        "      <td>0.415094</td>\n",
        "    </tr>\n",
        "    <tr>\n",
        "      <th>1</th>\n",
        "      <td>2003</td>\n",
        "      <td>10</td>\n",
        "      <td>1272</td>\n",
        "      <td>70</td>\n",
        "      <td>1393</td>\n",
        "      <td>63</td>\n",
        "      <td>N</td>\n",
        "      <td>0</td>\n",
        "      <td>26</td>\n",
        "      <td>62</td>\n",
        "      <td>...</td>\n",
        "      <td>0.526316</td>\n",
        "      <td>0.450000</td>\n",
        "      <td>0.058171</td>\n",
        "      <td>0.116342</td>\n",
        "      <td>0.058171</td>\n",
        "      <td>0.087257</td>\n",
        "      <td>0.322581</td>\n",
        "      <td>0.358209</td>\n",
        "      <td>0.306452</td>\n",
        "      <td>0.298507</td>\n",
        "    </tr>\n",
        "    <tr>\n",
        "      <th>2</th>\n",
        "      <td>2003</td>\n",
        "      <td>11</td>\n",
        "      <td>1266</td>\n",
        "      <td>73</td>\n",
        "      <td>1437</td>\n",
        "      <td>61</td>\n",
        "      <td>N</td>\n",
        "      <td>0</td>\n",
        "      <td>24</td>\n",
        "      <td>58</td>\n",
        "      <td>...</td>\n",
        "      <td>0.586207</td>\n",
        "      <td>0.608696</td>\n",
        "      <td>0.077101</td>\n",
        "      <td>0.030840</td>\n",
        "      <td>0.030840</td>\n",
        "      <td>0.077101</td>\n",
        "      <td>0.310345</td>\n",
        "      <td>0.356164</td>\n",
        "      <td>0.500000</td>\n",
        "      <td>0.315068</td>\n",
        "    </tr>\n",
        "    <tr>\n",
        "      <th>3</th>\n",
        "      <td>2003</td>\n",
        "      <td>11</td>\n",
        "      <td>1296</td>\n",
        "      <td>56</td>\n",
        "      <td>1457</td>\n",
        "      <td>50</td>\n",
        "      <td>N</td>\n",
        "      <td>0</td>\n",
        "      <td>18</td>\n",
        "      <td>38</td>\n",
        "      <td>...</td>\n",
        "      <td>0.548387</td>\n",
        "      <td>0.533333</td>\n",
        "      <td>0.239623</td>\n",
        "      <td>0.068464</td>\n",
        "      <td>0.034232</td>\n",
        "      <td>0.051348</td>\n",
        "      <td>0.236842</td>\n",
        "      <td>0.448980</td>\n",
        "      <td>0.815789</td>\n",
        "      <td>0.306122</td>\n",
        "    </tr>\n",
        "    <tr>\n",
        "      <th>4</th>\n",
        "      <td>2003</td>\n",
        "      <td>11</td>\n",
        "      <td>1400</td>\n",
        "      <td>77</td>\n",
        "      <td>1208</td>\n",
        "      <td>71</td>\n",
        "      <td>N</td>\n",
        "      <td>0</td>\n",
        "      <td>30</td>\n",
        "      <td>61</td>\n",
        "      <td>...</td>\n",
        "      <td>0.846154</td>\n",
        "      <td>0.629630</td>\n",
        "      <td>0.062500</td>\n",
        "      <td>0.109375</td>\n",
        "      <td>0.062500</td>\n",
        "      <td>0.015625</td>\n",
        "      <td>0.229508</td>\n",
        "      <td>0.258065</td>\n",
        "      <td>0.213115</td>\n",
        "      <td>0.435484</td>\n",
        "    </tr>\n",
        "  </tbody>\n",
        "</table>\n",
        "<p>5 rows \u00d7 56 columns</p>\n",
        "</div>"
       ],
       "metadata": {},
       "output_type": "pyout",
       "prompt_number": 5,
       "text": [
        "   Season  Daynum  Wteam  Wscore  Lteam  Lscore Wloc  Numot  Wfgm  Wfga  \\\n",
        "0    2003      10   1104      68   1328      62    N      0    27    58   \n",
        "1    2003      10   1272      70   1393      63    N      0    26    62   \n",
        "2    2003      11   1266      73   1437      61    N      0    24    58   \n",
        "3    2003      11   1296      56   1457      50    N      0    18    38   \n",
        "4    2003      11   1400      77   1208      71    N      0    30    61   \n",
        "\n",
        "     ...         Wftp      Lftp     Wstlp     Lstlp     Wblkp     Lblkp  \\\n",
        "0    ...     0.611111  0.727273  0.095238  0.122449  0.013605  0.027211   \n",
        "1    ...     0.526316  0.450000  0.058171  0.116342  0.058171  0.087257   \n",
        "2    ...     0.586207  0.608696  0.077101  0.030840  0.030840  0.077101   \n",
        "3    ...     0.548387  0.533333  0.239623  0.068464  0.034232  0.051348   \n",
        "4    ...     0.846154  0.629630  0.062500  0.109375  0.062500  0.015625   \n",
        "\n",
        "       W3pr      L3pr      Wftr      Lftr  \n",
        "0  0.241379  0.188679  0.310345  0.415094  \n",
        "1  0.322581  0.358209  0.306452  0.298507  \n",
        "2  0.310345  0.356164  0.500000  0.315068  \n",
        "3  0.236842  0.448980  0.815789  0.306122  \n",
        "4  0.229508  0.258065  0.213115  0.435484  \n",
        "\n",
        "[5 rows x 56 columns]"
       ]
      }
     ],
     "prompt_number": 5
    },
    {
     "cell_type": "markdown",
     "metadata": {},
     "source": [
      "We are doing ridge regression here (lambda = 1) to determine ranking of teams in various categories. This is a relatively common approach, used in NBA RPM and RAPM. "
     ]
    },
    {
     "cell_type": "code",
     "collapsed": true,
     "input": [
      "def append_rate_stats(stat,data_train,team_ridge):\n",
      "    teams = list(set(list(data_train.Wteam) + list(data_train.Lteam)))\n",
      "    off = [str(x)+\"_o\" for x in teams]\n",
      "    deff = [str(x)+\"_d\" for x in teams]\n",
      "    all_t = off+deff\n",
      "    df = pd.DataFrame(index=[str(x) + \"_w\" for x in data_train.index]+[str(x) + \"_l\" for x in data_train.index], columns=all_t)\n",
      "    df= df.fillna(0) \n",
      "    df['ha']=0\n",
      "    y = pd.DataFrame(index=df.index, columns=[stat])\n",
      "    y= y.fillna(0.) \n",
      "    w_stat = \"W\"+stat\n",
      "    l_stat = \"L\"+stat\n",
      "    for index,row in data_train.iterrows():\n",
      "        w_index = str(index)+\"_w\"\n",
      "        l_index = str(index)+ \"_l\"\n",
      "        df[str(row['Wteam'])+\"_o\"][w_index]=1\n",
      "        df[str(row['Lteam'])+\"_o\"][l_index]=1\n",
      "        df[str(row['Wteam'])+\"_d\"][l_index]=-1\n",
      "        df[str(row['Lteam'])+\"_d\"][w_index]=-1\n",
      "        y[stat][w_index]=row[w_stat]\n",
      "        y[stat][l_index]=row[l_stat]\n",
      "        if(np.isnan(y[stat][l_index])):\n",
      "            y[stat][l_index] = 0\n",
      "        if(np.isnan(y[stat][w_index])):\n",
      "            y[stat][w_index] = 0\n",
      "        if row['Wloc']==\"H\":\n",
      "            df['ha'][w_index]=1\n",
      "            df['ha'][l_index]=-1\n",
      "        if row['Wloc']=='A':\n",
      "            df['ha'][w_index]=-1\n",
      "            df['ha'][l_index]=1\n",
      "    model = RidgeCV(alphas=[float(x)/20 for x in range(1,100)])\n",
      "    model.fit(df,y)\n",
      "    team_ridge[\"o\" + stat] = model.coef_[0][:len(team_ridge)]\n",
      "    team_ridge[\"d\" + stat] = model.coef_[0][len(team_ridge):-1]\n",
      "    return team_ridge"
     ],
     "language": "python",
     "metadata": {},
     "outputs": [],
     "prompt_number": 6
    },
    {
     "cell_type": "code",
     "collapsed": true,
     "input": [
      "def get_rankings(year):\n",
      "    data_train = bigdata[bigdata.Season==year]\n",
      "    teams = list(set(list(data_train.Wteam) + list(data_train.Lteam)))\n",
      "    df = pd.DataFrame(index=data_train.index, columns=teams)\n",
      "    df= df.fillna(0) \n",
      "    df['ha'] = 0\n",
      "    y = pd.DataFrame(index=df.index, columns=['Score'])\n",
      "    y= y.fillna(0.) \n",
      "    for index,row in data_train.iterrows():\n",
      "        df[row['Wteam']][index]=1\n",
      "        df[row['Lteam']][index]=-1\n",
      "        y['Score'][index]=float(row['dif'])/row['pace']\n",
      "        if row['Wloc']==\"H\":\n",
      "            df['ha'][index]=1\n",
      "        if row['Wloc']=='A':\n",
      "            df['ha'][index]=-1\n",
      "    model = RidgeCV(alphas=[float(x)/20 for x in range(1,100)])\n",
      "    model.fit(df,y)\n",
      "    team_ridge= pd.DataFrame(index=teams, columns=['overall'])\n",
      "    team_ridge= team_ridge.fillna(0) \n",
      "    team_ridge.overall = model.coef_[0][:-1]\n",
      "    df = pd.DataFrame(index=data_train.index, columns=teams)\n",
      "    df= df.fillna(0) \n",
      "    df['ha'] = 0\n",
      "    y = pd.DataFrame(index=df.index, columns=['Pace'])\n",
      "    y= y.fillna(0.) \n",
      "    for index,row in data_train.iterrows():\n",
      "        df[row['Wteam']][index]=1\n",
      "        df[row['Lteam']][index]=-1\n",
      "        y['Pace'][index]=row['pace']\n",
      "        if row['Wloc']==\"H\":\n",
      "            df['ha'][index]=1\n",
      "        if row['Wloc']=='A':\n",
      "            df['ha'][index]=-1\n",
      "    model = RidgeCV(alphas=[float(x)/20 for x in range(1,100)])\n",
      "    model.fit(df,y)\n",
      "    team_ridge['pace']=model.coef_[0][:-1]\n",
      "    for stat in ['or','orp','astp','fgp','fg3p','ftp','stlp','blkp','3pr','ftr']:\n",
      "        print stat\n",
      "        team_ridge = append_rate_stats(stat,data_train,team_ridge)\n",
      "    return team_ridge"
     ],
     "language": "python",
     "metadata": {},
     "outputs": [],
     "prompt_number": 7
    },
    {
     "cell_type": "code",
     "collapsed": false,
     "input": [
      "max(bigdata.Season)"
     ],
     "language": "python",
     "metadata": {},
     "outputs": [
      {
       "metadata": {},
       "output_type": "pyout",
       "prompt_number": 8,
       "text": [
        "2015"
       ]
      }
     ],
     "prompt_number": 8
    },
    {
     "cell_type": "code",
     "collapsed": false,
     "input": [
      "teams_2014=get_rankings(2014)"
     ],
     "language": "python",
     "metadata": {},
     "outputs": [
      {
       "output_type": "stream",
       "stream": "stdout",
       "text": [
        "or\n",
        "orp"
       ]
      },
      {
       "output_type": "stream",
       "stream": "stdout",
       "text": [
        "\n",
        "astp"
       ]
      },
      {
       "output_type": "stream",
       "stream": "stdout",
       "text": [
        "\n",
        "fgp"
       ]
      },
      {
       "output_type": "stream",
       "stream": "stdout",
       "text": [
        "\n",
        "fg3p"
       ]
      },
      {
       "output_type": "stream",
       "stream": "stdout",
       "text": [
        "\n",
        "ftp"
       ]
      },
      {
       "output_type": "stream",
       "stream": "stdout",
       "text": [
        "\n",
        "stlp"
       ]
      },
      {
       "output_type": "stream",
       "stream": "stdout",
       "text": [
        "\n",
        "blkp"
       ]
      },
      {
       "output_type": "stream",
       "stream": "stdout",
       "text": [
        "\n",
        "3pr"
       ]
      },
      {
       "output_type": "stream",
       "stream": "stdout",
       "text": [
        "\n",
        "ftr"
       ]
      },
      {
       "output_type": "stream",
       "stream": "stdout",
       "text": [
        "\n"
       ]
      }
     ],
     "prompt_number": 10
    },
    {
     "cell_type": "code",
     "collapsed": false,
     "input": [
      "team_database = {}"
     ],
     "language": "python",
     "metadata": {},
     "outputs": [],
     "prompt_number": 11
    },
    {
     "cell_type": "code",
     "collapsed": false,
     "input": [
      "for year_ in range(min(bigdata.Season),max(bigdata.Season)+1):\n",
      "    print year_\n",
      "    teams_2014=get_rankings(year_)\n",
      "    for index, row in teams_2014.iterrows():\n",
      "        team_stats={}\n",
      "        for name,value in zip(teams_2014.columns,row):\n",
      "            team_stats[name] = value\n",
      "        if str(index) in team_database:\n",
      "            team_database[str(index)][str(year_)]=team_stats\n",
      "        else:\n",
      "            team_database[str(index)]={}\n",
      "            team_database[str(index)][str(year_)]=team_stats"
     ],
     "language": "python",
     "metadata": {},
     "outputs": [
      {
       "output_type": "stream",
       "stream": "stdout",
       "text": [
        "2003\n",
        "or"
       ]
      },
      {
       "output_type": "stream",
       "stream": "stdout",
       "text": [
        "\n",
        "orp"
       ]
      },
      {
       "output_type": "stream",
       "stream": "stdout",
       "text": [
        "\n",
        "astp"
       ]
      },
      {
       "output_type": "stream",
       "stream": "stdout",
       "text": [
        "\n",
        "fgp"
       ]
      },
      {
       "output_type": "stream",
       "stream": "stdout",
       "text": [
        "\n",
        "fg3p"
       ]
      },
      {
       "output_type": "stream",
       "stream": "stdout",
       "text": [
        "\n",
        "ftp"
       ]
      },
      {
       "output_type": "stream",
       "stream": "stdout",
       "text": [
        "\n",
        "stlp"
       ]
      },
      {
       "output_type": "stream",
       "stream": "stdout",
       "text": [
        "\n",
        "blkp"
       ]
      },
      {
       "output_type": "stream",
       "stream": "stdout",
       "text": [
        "\n",
        "3pr"
       ]
      },
      {
       "output_type": "stream",
       "stream": "stdout",
       "text": [
        "\n",
        "ftr"
       ]
      },
      {
       "output_type": "stream",
       "stream": "stdout",
       "text": [
        "\n",
        "2004"
       ]
      },
      {
       "output_type": "stream",
       "stream": "stdout",
       "text": [
        "\n",
        "or"
       ]
      },
      {
       "output_type": "stream",
       "stream": "stdout",
       "text": [
        "\n",
        "orp"
       ]
      },
      {
       "output_type": "stream",
       "stream": "stdout",
       "text": [
        "\n",
        "astp"
       ]
      },
      {
       "output_type": "stream",
       "stream": "stdout",
       "text": [
        "\n",
        "fgp"
       ]
      },
      {
       "output_type": "stream",
       "stream": "stdout",
       "text": [
        "\n",
        "fg3p"
       ]
      },
      {
       "output_type": "stream",
       "stream": "stdout",
       "text": [
        "\n",
        "ftp"
       ]
      },
      {
       "output_type": "stream",
       "stream": "stdout",
       "text": [
        "\n",
        "stlp"
       ]
      },
      {
       "output_type": "stream",
       "stream": "stdout",
       "text": [
        "\n",
        "blkp"
       ]
      },
      {
       "output_type": "stream",
       "stream": "stdout",
       "text": [
        "\n",
        "3pr"
       ]
      },
      {
       "output_type": "stream",
       "stream": "stdout",
       "text": [
        "\n",
        "ftr"
       ]
      },
      {
       "output_type": "stream",
       "stream": "stdout",
       "text": [
        "\n",
        "2005"
       ]
      },
      {
       "output_type": "stream",
       "stream": "stdout",
       "text": [
        "\n",
        "or"
       ]
      },
      {
       "output_type": "stream",
       "stream": "stdout",
       "text": [
        "\n",
        "orp"
       ]
      },
      {
       "output_type": "stream",
       "stream": "stdout",
       "text": [
        "\n",
        "astp"
       ]
      },
      {
       "output_type": "stream",
       "stream": "stdout",
       "text": [
        "\n",
        "fgp"
       ]
      },
      {
       "output_type": "stream",
       "stream": "stdout",
       "text": [
        "\n",
        "fg3p"
       ]
      },
      {
       "output_type": "stream",
       "stream": "stdout",
       "text": [
        "\n",
        "ftp"
       ]
      },
      {
       "output_type": "stream",
       "stream": "stdout",
       "text": [
        "\n",
        "stlp"
       ]
      },
      {
       "output_type": "stream",
       "stream": "stdout",
       "text": [
        "\n",
        "blkp"
       ]
      },
      {
       "output_type": "stream",
       "stream": "stdout",
       "text": [
        "\n",
        "3pr"
       ]
      },
      {
       "output_type": "stream",
       "stream": "stdout",
       "text": [
        "\n",
        "ftr"
       ]
      },
      {
       "output_type": "stream",
       "stream": "stdout",
       "text": [
        "\n",
        "2006"
       ]
      },
      {
       "output_type": "stream",
       "stream": "stdout",
       "text": [
        "\n",
        "or"
       ]
      },
      {
       "output_type": "stream",
       "stream": "stdout",
       "text": [
        "\n",
        "orp"
       ]
      },
      {
       "output_type": "stream",
       "stream": "stdout",
       "text": [
        "\n",
        "astp"
       ]
      },
      {
       "output_type": "stream",
       "stream": "stdout",
       "text": [
        "\n",
        "fgp"
       ]
      },
      {
       "output_type": "stream",
       "stream": "stdout",
       "text": [
        "\n",
        "fg3p"
       ]
      },
      {
       "output_type": "stream",
       "stream": "stdout",
       "text": [
        "\n",
        "ftp"
       ]
      },
      {
       "output_type": "stream",
       "stream": "stdout",
       "text": [
        "\n",
        "stlp"
       ]
      },
      {
       "output_type": "stream",
       "stream": "stdout",
       "text": [
        "\n",
        "blkp"
       ]
      },
      {
       "output_type": "stream",
       "stream": "stdout",
       "text": [
        "\n",
        "3pr"
       ]
      },
      {
       "output_type": "stream",
       "stream": "stdout",
       "text": [
        "\n",
        "ftr"
       ]
      },
      {
       "output_type": "stream",
       "stream": "stdout",
       "text": [
        "\n",
        "2007"
       ]
      },
      {
       "output_type": "stream",
       "stream": "stdout",
       "text": [
        "\n",
        "or"
       ]
      },
      {
       "output_type": "stream",
       "stream": "stdout",
       "text": [
        "\n",
        "orp"
       ]
      },
      {
       "output_type": "stream",
       "stream": "stdout",
       "text": [
        "\n",
        "astp"
       ]
      },
      {
       "output_type": "stream",
       "stream": "stdout",
       "text": [
        "\n",
        "fgp"
       ]
      },
      {
       "output_type": "stream",
       "stream": "stdout",
       "text": [
        "\n",
        "fg3p"
       ]
      },
      {
       "output_type": "stream",
       "stream": "stdout",
       "text": [
        "\n",
        "ftp"
       ]
      },
      {
       "output_type": "stream",
       "stream": "stdout",
       "text": [
        "\n",
        "stlp"
       ]
      },
      {
       "output_type": "stream",
       "stream": "stdout",
       "text": [
        "\n",
        "blkp"
       ]
      },
      {
       "output_type": "stream",
       "stream": "stdout",
       "text": [
        "\n",
        "3pr"
       ]
      },
      {
       "output_type": "stream",
       "stream": "stdout",
       "text": [
        "\n",
        "ftr"
       ]
      },
      {
       "output_type": "stream",
       "stream": "stdout",
       "text": [
        "\n",
        "2008"
       ]
      },
      {
       "output_type": "stream",
       "stream": "stdout",
       "text": [
        "\n",
        "or"
       ]
      },
      {
       "output_type": "stream",
       "stream": "stdout",
       "text": [
        "\n",
        "orp"
       ]
      },
      {
       "output_type": "stream",
       "stream": "stdout",
       "text": [
        "\n",
        "astp"
       ]
      },
      {
       "output_type": "stream",
       "stream": "stdout",
       "text": [
        "\n",
        "fgp"
       ]
      },
      {
       "output_type": "stream",
       "stream": "stdout",
       "text": [
        "\n",
        "fg3p"
       ]
      },
      {
       "output_type": "stream",
       "stream": "stdout",
       "text": [
        "\n",
        "ftp"
       ]
      },
      {
       "output_type": "stream",
       "stream": "stdout",
       "text": [
        "\n",
        "stlp"
       ]
      },
      {
       "output_type": "stream",
       "stream": "stdout",
       "text": [
        "\n",
        "blkp"
       ]
      },
      {
       "output_type": "stream",
       "stream": "stdout",
       "text": [
        "\n",
        "3pr"
       ]
      },
      {
       "output_type": "stream",
       "stream": "stdout",
       "text": [
        "\n",
        "ftr"
       ]
      },
      {
       "output_type": "stream",
       "stream": "stdout",
       "text": [
        "\n",
        "2009"
       ]
      },
      {
       "output_type": "stream",
       "stream": "stdout",
       "text": [
        "\n",
        "or"
       ]
      },
      {
       "output_type": "stream",
       "stream": "stdout",
       "text": [
        "\n",
        "orp"
       ]
      },
      {
       "output_type": "stream",
       "stream": "stdout",
       "text": [
        "\n",
        "astp"
       ]
      },
      {
       "output_type": "stream",
       "stream": "stdout",
       "text": [
        "\n",
        "fgp"
       ]
      },
      {
       "output_type": "stream",
       "stream": "stdout",
       "text": [
        "\n",
        "fg3p"
       ]
      },
      {
       "output_type": "stream",
       "stream": "stdout",
       "text": [
        "\n",
        "ftp"
       ]
      },
      {
       "output_type": "stream",
       "stream": "stdout",
       "text": [
        "\n",
        "stlp"
       ]
      },
      {
       "output_type": "stream",
       "stream": "stdout",
       "text": [
        "\n",
        "blkp"
       ]
      },
      {
       "output_type": "stream",
       "stream": "stdout",
       "text": [
        "\n",
        "3pr"
       ]
      },
      {
       "output_type": "stream",
       "stream": "stdout",
       "text": [
        "\n",
        "ftr"
       ]
      },
      {
       "output_type": "stream",
       "stream": "stdout",
       "text": [
        "\n",
        "2010"
       ]
      },
      {
       "output_type": "stream",
       "stream": "stdout",
       "text": [
        "\n",
        "or"
       ]
      },
      {
       "output_type": "stream",
       "stream": "stdout",
       "text": [
        "\n",
        "orp"
       ]
      },
      {
       "output_type": "stream",
       "stream": "stdout",
       "text": [
        "\n",
        "astp"
       ]
      },
      {
       "output_type": "stream",
       "stream": "stdout",
       "text": [
        "\n",
        "fgp"
       ]
      },
      {
       "output_type": "stream",
       "stream": "stdout",
       "text": [
        "\n",
        "fg3p"
       ]
      },
      {
       "output_type": "stream",
       "stream": "stdout",
       "text": [
        "\n",
        "ftp"
       ]
      },
      {
       "output_type": "stream",
       "stream": "stdout",
       "text": [
        "\n",
        "stlp"
       ]
      },
      {
       "output_type": "stream",
       "stream": "stdout",
       "text": [
        "\n",
        "blkp"
       ]
      },
      {
       "output_type": "stream",
       "stream": "stdout",
       "text": [
        "\n",
        "3pr"
       ]
      },
      {
       "output_type": "stream",
       "stream": "stdout",
       "text": [
        "\n",
        "ftr"
       ]
      },
      {
       "output_type": "stream",
       "stream": "stdout",
       "text": [
        "\n",
        "2011"
       ]
      },
      {
       "output_type": "stream",
       "stream": "stdout",
       "text": [
        "\n",
        "or"
       ]
      },
      {
       "output_type": "stream",
       "stream": "stdout",
       "text": [
        "\n",
        "orp"
       ]
      },
      {
       "output_type": "stream",
       "stream": "stdout",
       "text": [
        "\n",
        "astp"
       ]
      },
      {
       "output_type": "stream",
       "stream": "stdout",
       "text": [
        "\n",
        "fgp"
       ]
      },
      {
       "output_type": "stream",
       "stream": "stdout",
       "text": [
        "\n",
        "fg3p"
       ]
      },
      {
       "output_type": "stream",
       "stream": "stdout",
       "text": [
        "\n",
        "ftp"
       ]
      },
      {
       "output_type": "stream",
       "stream": "stdout",
       "text": [
        "\n",
        "stlp"
       ]
      },
      {
       "output_type": "stream",
       "stream": "stdout",
       "text": [
        "\n",
        "blkp"
       ]
      },
      {
       "output_type": "stream",
       "stream": "stdout",
       "text": [
        "\n",
        "3pr"
       ]
      },
      {
       "output_type": "stream",
       "stream": "stdout",
       "text": [
        "\n",
        "ftr"
       ]
      },
      {
       "output_type": "stream",
       "stream": "stdout",
       "text": [
        "\n",
        "2012"
       ]
      },
      {
       "output_type": "stream",
       "stream": "stdout",
       "text": [
        "\n",
        "or"
       ]
      },
      {
       "output_type": "stream",
       "stream": "stdout",
       "text": [
        "\n",
        "orp"
       ]
      },
      {
       "output_type": "stream",
       "stream": "stdout",
       "text": [
        "\n",
        "astp"
       ]
      },
      {
       "output_type": "stream",
       "stream": "stdout",
       "text": [
        "\n",
        "fgp"
       ]
      },
      {
       "output_type": "stream",
       "stream": "stdout",
       "text": [
        "\n",
        "fg3p"
       ]
      },
      {
       "output_type": "stream",
       "stream": "stdout",
       "text": [
        "\n",
        "ftp"
       ]
      },
      {
       "output_type": "stream",
       "stream": "stdout",
       "text": [
        "\n",
        "stlp"
       ]
      },
      {
       "output_type": "stream",
       "stream": "stdout",
       "text": [
        "\n",
        "blkp"
       ]
      },
      {
       "output_type": "stream",
       "stream": "stdout",
       "text": [
        "\n",
        "3pr"
       ]
      },
      {
       "output_type": "stream",
       "stream": "stdout",
       "text": [
        "\n",
        "ftr"
       ]
      },
      {
       "output_type": "stream",
       "stream": "stdout",
       "text": [
        "\n",
        "2013"
       ]
      },
      {
       "output_type": "stream",
       "stream": "stdout",
       "text": [
        "\n",
        "or"
       ]
      },
      {
       "output_type": "stream",
       "stream": "stdout",
       "text": [
        "\n",
        "orp"
       ]
      },
      {
       "output_type": "stream",
       "stream": "stdout",
       "text": [
        "\n",
        "astp"
       ]
      },
      {
       "output_type": "stream",
       "stream": "stdout",
       "text": [
        "\n",
        "fgp"
       ]
      },
      {
       "output_type": "stream",
       "stream": "stdout",
       "text": [
        "\n",
        "fg3p"
       ]
      },
      {
       "output_type": "stream",
       "stream": "stdout",
       "text": [
        "\n",
        "ftp"
       ]
      },
      {
       "output_type": "stream",
       "stream": "stdout",
       "text": [
        "\n",
        "stlp"
       ]
      },
      {
       "output_type": "stream",
       "stream": "stdout",
       "text": [
        "\n",
        "blkp"
       ]
      },
      {
       "output_type": "stream",
       "stream": "stdout",
       "text": [
        "\n",
        "3pr"
       ]
      },
      {
       "output_type": "stream",
       "stream": "stdout",
       "text": [
        "\n",
        "ftr"
       ]
      },
      {
       "output_type": "stream",
       "stream": "stdout",
       "text": [
        "\n",
        "2014"
       ]
      },
      {
       "output_type": "stream",
       "stream": "stdout",
       "text": [
        "\n",
        "or"
       ]
      },
      {
       "output_type": "stream",
       "stream": "stdout",
       "text": [
        "\n",
        "orp"
       ]
      },
      {
       "output_type": "stream",
       "stream": "stdout",
       "text": [
        "\n",
        "astp"
       ]
      },
      {
       "output_type": "stream",
       "stream": "stdout",
       "text": [
        "\n",
        "fgp"
       ]
      },
      {
       "output_type": "stream",
       "stream": "stdout",
       "text": [
        "\n",
        "fg3p"
       ]
      },
      {
       "output_type": "stream",
       "stream": "stdout",
       "text": [
        "\n",
        "ftp"
       ]
      },
      {
       "output_type": "stream",
       "stream": "stdout",
       "text": [
        "\n",
        "stlp"
       ]
      },
      {
       "output_type": "stream",
       "stream": "stdout",
       "text": [
        "\n",
        "blkp"
       ]
      },
      {
       "output_type": "stream",
       "stream": "stdout",
       "text": [
        "\n",
        "3pr"
       ]
      },
      {
       "output_type": "stream",
       "stream": "stdout",
       "text": [
        "\n",
        "ftr"
       ]
      },
      {
       "output_type": "stream",
       "stream": "stdout",
       "text": [
        "\n",
        "2015"
       ]
      },
      {
       "output_type": "stream",
       "stream": "stdout",
       "text": [
        "\n",
        "or"
       ]
      },
      {
       "output_type": "stream",
       "stream": "stdout",
       "text": [
        "\n",
        "orp"
       ]
      },
      {
       "output_type": "stream",
       "stream": "stdout",
       "text": [
        "\n",
        "astp"
       ]
      },
      {
       "output_type": "stream",
       "stream": "stdout",
       "text": [
        "\n",
        "fgp"
       ]
      },
      {
       "output_type": "stream",
       "stream": "stdout",
       "text": [
        "\n",
        "fg3p"
       ]
      },
      {
       "output_type": "stream",
       "stream": "stdout",
       "text": [
        "\n",
        "ftp"
       ]
      },
      {
       "output_type": "stream",
       "stream": "stdout",
       "text": [
        "\n",
        "stlp"
       ]
      },
      {
       "output_type": "stream",
       "stream": "stdout",
       "text": [
        "\n",
        "blkp"
       ]
      },
      {
       "output_type": "stream",
       "stream": "stdout",
       "text": [
        "\n",
        "3pr"
       ]
      },
      {
       "output_type": "stream",
       "stream": "stdout",
       "text": [
        "\n",
        "ftr"
       ]
      },
      {
       "output_type": "stream",
       "stream": "stdout",
       "text": [
        "\n"
       ]
      }
     ],
     "prompt_number": 17
    },
    {
     "cell_type": "code",
     "collapsed": false,
     "input": [
      "team_database['1112']['2014']"
     ],
     "language": "python",
     "metadata": {},
     "outputs": [
      {
       "metadata": {},
       "output_type": "pyout",
       "prompt_number": 19,
       "text": [
        "{'d3pr': 0.00088230766260935858,\n",
        " 'dastp': 0.030998359611878065,\n",
        " 'dblkp': 0.0049559838136229361,\n",
        " 'dfg3p': -0.017686889227958663,\n",
        " 'dfgp': 0.028499078568650991,\n",
        " 'dftp': -0.023622389039732947,\n",
        " 'dftr': 0.037423193788368336,\n",
        " 'dor': 0.085419046434195373,\n",
        " 'dorp': 0.048276512281077995,\n",
        " 'dstlp': 0.0045772894780256555,\n",
        " 'o3pr': 0.035433471728572766,\n",
        " 'oastp': 0.021372859253999857,\n",
        " 'oblkp': 0.0071435887412111647,\n",
        " 'ofg3p': 0.026093089091906774,\n",
        " 'ofgp': 0.032961661133469655,\n",
        " 'oftp': 0.064199199963091744,\n",
        " 'oftr': 0.050404847066996356,\n",
        " 'oor': 0.11179373128338316,\n",
        " 'oorp': 0.044996846946253208,\n",
        " 'ostlp': 0.0025851501550827119,\n",
        " 'overall': 0.10601645878700414,\n",
        " 'pace': 0.38296458800248678}"
       ]
      }
     ],
     "prompt_number": 19
    },
    {
     "cell_type": "code",
     "collapsed": false,
     "input": [
      "\n",
      "np.save('team_database.npy', team_database) \n",
      "\n",
      "# Load\n",
      "#read_dictionary = np.load('team_database.npy').item()"
     ],
     "language": "python",
     "metadata": {},
     "outputs": [],
     "prompt_number": 24
    },
    {
     "cell_type": "code",
     "collapsed": false,
     "input": [
      "teams_2014.sort('dor', ascending=False).head()"
     ],
     "language": "python",
     "metadata": {},
     "outputs": [
      {
       "html": [
        "<div style=\"max-width:1500px;overflow:auto;\">\n",
        "<table border=\"1\" class=\"dataframe\">\n",
        "  <thead>\n",
        "    <tr style=\"text-align: right;\">\n",
        "      <th></th>\n",
        "      <th>overall</th>\n",
        "      <th>pace</th>\n",
        "      <th>oor</th>\n",
        "      <th>dor</th>\n",
        "      <th>oorp</th>\n",
        "      <th>dorp</th>\n",
        "      <th>oastp</th>\n",
        "      <th>dastp</th>\n",
        "      <th>ofgp</th>\n",
        "      <th>dfgp</th>\n",
        "      <th>...</th>\n",
        "      <th>oftp</th>\n",
        "      <th>dftp</th>\n",
        "      <th>ostlp</th>\n",
        "      <th>dstlp</th>\n",
        "      <th>oblkp</th>\n",
        "      <th>dblkp</th>\n",
        "      <th>o3pr</th>\n",
        "      <th>d3pr</th>\n",
        "      <th>oftr</th>\n",
        "      <th>dftr</th>\n",
        "    </tr>\n",
        "  </thead>\n",
        "  <tbody>\n",
        "    <tr>\n",
        "      <th>1112</th>\n",
        "      <td>0.184785</td>\n",
        "      <td>-1.535525</td>\n",
        "      <td>0.114783</td>\n",
        "      <td>0.192718</td>\n",
        "      <td>0.064437</td>\n",
        "      <td>0.051854</td>\n",
        "      <td>0.064271</td>\n",
        "      <td>0.051167</td>\n",
        "      <td>0.040502</td>\n",
        "      <td>0.072416</td>\n",
        "      <td>...</td>\n",
        "      <td>-0.023163</td>\n",
        "      <td>-0.000167</td>\n",
        "      <td>0.005559</td>\n",
        "      <td>0.016385</td>\n",
        "      <td>0.013084</td>\n",
        "      <td>0.010754</td>\n",
        "      <td>-0.058032</td>\n",
        "      <td>0.046901</td>\n",
        "      <td>0.033051</td>\n",
        "      <td>0.071118</td>\n",
        "    </tr>\n",
        "    <tr>\n",
        "      <th>1257</th>\n",
        "      <td>0.229968</td>\n",
        "      <td>0.757671</td>\n",
        "      <td>0.151658</td>\n",
        "      <td>0.168643</td>\n",
        "      <td>0.054544</td>\n",
        "      <td>0.003312</td>\n",
        "      <td>0.012934</td>\n",
        "      <td>0.010445</td>\n",
        "      <td>0.036640</td>\n",
        "      <td>0.047579</td>\n",
        "      <td>...</td>\n",
        "      <td>-0.036637</td>\n",
        "      <td>0.007772</td>\n",
        "      <td>0.047958</td>\n",
        "      <td>0.026543</td>\n",
        "      <td>0.012466</td>\n",
        "      <td>0.018584</td>\n",
        "      <td>0.019598</td>\n",
        "      <td>0.005119</td>\n",
        "      <td>-0.000127</td>\n",
        "      <td>0.023127</td>\n",
        "    </tr>\n",
        "    <tr>\n",
        "      <th>1326</th>\n",
        "      <td>0.146284</td>\n",
        "      <td>-1.536132</td>\n",
        "      <td>0.058809</td>\n",
        "      <td>0.167958</td>\n",
        "      <td>-0.003025</td>\n",
        "      <td>0.016002</td>\n",
        "      <td>-0.015386</td>\n",
        "      <td>0.072499</td>\n",
        "      <td>0.021150</td>\n",
        "      <td>0.042119</td>\n",
        "      <td>...</td>\n",
        "      <td>-0.006492</td>\n",
        "      <td>-0.008477</td>\n",
        "      <td>0.024737</td>\n",
        "      <td>0.028646</td>\n",
        "      <td>0.012335</td>\n",
        "      <td>0.008647</td>\n",
        "      <td>-0.000404</td>\n",
        "      <td>0.014179</td>\n",
        "      <td>0.029595</td>\n",
        "      <td>0.089317</td>\n",
        "    </tr>\n",
        "    <tr>\n",
        "      <th>1438</th>\n",
        "      <td>0.144245</td>\n",
        "      <td>-4.227739</td>\n",
        "      <td>0.078746</td>\n",
        "      <td>0.166503</td>\n",
        "      <td>0.038731</td>\n",
        "      <td>0.060455</td>\n",
        "      <td>0.043575</td>\n",
        "      <td>0.016601</td>\n",
        "      <td>0.027585</td>\n",
        "      <td>0.061736</td>\n",
        "      <td>...</td>\n",
        "      <td>-0.024850</td>\n",
        "      <td>0.038265</td>\n",
        "      <td>-0.001330</td>\n",
        "      <td>0.006627</td>\n",
        "      <td>0.012777</td>\n",
        "      <td>0.003575</td>\n",
        "      <td>-0.040167</td>\n",
        "      <td>-0.019670</td>\n",
        "      <td>0.027615</td>\n",
        "      <td>0.073997</td>\n",
        "    </tr>\n",
        "    <tr>\n",
        "      <th>1196</th>\n",
        "      <td>0.134305</td>\n",
        "      <td>-3.138661</td>\n",
        "      <td>0.109923</td>\n",
        "      <td>0.158390</td>\n",
        "      <td>0.037055</td>\n",
        "      <td>0.042425</td>\n",
        "      <td>0.032990</td>\n",
        "      <td>0.025799</td>\n",
        "      <td>0.042093</td>\n",
        "      <td>0.046112</td>\n",
        "      <td>...</td>\n",
        "      <td>-0.037626</td>\n",
        "      <td>0.020276</td>\n",
        "      <td>0.021163</td>\n",
        "      <td>0.001494</td>\n",
        "      <td>-0.005654</td>\n",
        "      <td>0.016677</td>\n",
        "      <td>0.017883</td>\n",
        "      <td>-0.004713</td>\n",
        "      <td>0.022403</td>\n",
        "      <td>0.095939</td>\n",
        "    </tr>\n",
        "  </tbody>\n",
        "</table>\n",
        "<p>5 rows \u00d7 22 columns</p>\n",
        "</div>"
       ],
       "metadata": {},
       "output_type": "pyout",
       "prompt_number": 33,
       "text": [
        "       overall      pace       oor       dor      oorp      dorp     oastp  \\\n",
        "1112  0.184785 -1.535525  0.114783  0.192718  0.064437  0.051854  0.064271   \n",
        "1257  0.229968  0.757671  0.151658  0.168643  0.054544  0.003312  0.012934   \n",
        "1326  0.146284 -1.536132  0.058809  0.167958 -0.003025  0.016002 -0.015386   \n",
        "1438  0.144245 -4.227739  0.078746  0.166503  0.038731  0.060455  0.043575   \n",
        "1196  0.134305 -3.138661  0.109923  0.158390  0.037055  0.042425  0.032990   \n",
        "\n",
        "         dastp      ofgp      dfgp    ...         oftp      dftp     ostlp  \\\n",
        "1112  0.051167  0.040502  0.072416    ...    -0.023163 -0.000167  0.005559   \n",
        "1257  0.010445  0.036640  0.047579    ...    -0.036637  0.007772  0.047958   \n",
        "1326  0.072499  0.021150  0.042119    ...    -0.006492 -0.008477  0.024737   \n",
        "1438  0.016601  0.027585  0.061736    ...    -0.024850  0.038265 -0.001330   \n",
        "1196  0.025799  0.042093  0.046112    ...    -0.037626  0.020276  0.021163   \n",
        "\n",
        "         dstlp     oblkp     dblkp      o3pr      d3pr      oftr      dftr  \n",
        "1112  0.016385  0.013084  0.010754 -0.058032  0.046901  0.033051  0.071118  \n",
        "1257  0.026543  0.012466  0.018584  0.019598  0.005119 -0.000127  0.023127  \n",
        "1326  0.028646  0.012335  0.008647 -0.000404  0.014179  0.029595  0.089317  \n",
        "1438  0.006627  0.012777  0.003575 -0.040167 -0.019670  0.027615  0.073997  \n",
        "1196  0.001494 -0.005654  0.016677  0.017883 -0.004713  0.022403  0.095939  \n",
        "\n",
        "[5 rows x 22 columns]"
       ]
      }
     ],
     "prompt_number": 33
    },
    {
     "cell_type": "code",
     "collapsed": false,
     "input": [
      "teams_2014.sort('dor', ascending=False).head()"
     ],
     "language": "python",
     "metadata": {},
     "outputs": [
      {
       "html": [
        "<div>\n",
        "<table border=\"1\" class=\"dataframe\">\n",
        "  <thead>\n",
        "    <tr style=\"text-align: right;\">\n",
        "      <th></th>\n",
        "      <th>overall</th>\n",
        "      <th>pace</th>\n",
        "      <th>oor</th>\n",
        "      <th>dor</th>\n",
        "      <th>oorp</th>\n",
        "      <th>dorp</th>\n",
        "      <th>oastp</th>\n",
        "      <th>dastp</th>\n",
        "      <th>ofgp</th>\n",
        "      <th>dfgp</th>\n",
        "      <th>...</th>\n",
        "      <th>oftp</th>\n",
        "      <th>dftp</th>\n",
        "      <th>ostlp</th>\n",
        "      <th>dstlp</th>\n",
        "      <th>oblkp</th>\n",
        "      <th>dblkp</th>\n",
        "      <th>o3pr</th>\n",
        "      <th>d3pr</th>\n",
        "      <th>oftr</th>\n",
        "      <th>dftr</th>\n",
        "    </tr>\n",
        "  </thead>\n",
        "  <tbody>\n",
        "    <tr>\n",
        "      <th>1112</th>\n",
        "      <td>0.160798</td>\n",
        "      <td>-1.345149</td>\n",
        "      <td>0.099359</td>\n",
        "      <td>0.183329</td>\n",
        "      <td>0.008495</td>\n",
        "      <td>0.008918</td>\n",
        "      <td>0.076447</td>\n",
        "      <td>0.058798</td>\n",
        "      <td>0.048862</td>\n",
        "      <td>0.083488</td>\n",
        "      <td>...</td>\n",
        "      <td>-0.021868</td>\n",
        "      <td>0.004059</td>\n",
        "      <td>0.006075</td>\n",
        "      <td>0.017715</td>\n",
        "      <td>0.013931</td>\n",
        "      <td>0.012341</td>\n",
        "      <td>-0.061144</td>\n",
        "      <td>0.047372</td>\n",
        "      <td>0.046161</td>\n",
        "      <td>0.087136</td>\n",
        "    </tr>\n",
        "    <tr>\n",
        "      <th>1257</th>\n",
        "      <td>0.194379</td>\n",
        "      <td>2.644455</td>\n",
        "      <td>0.120464</td>\n",
        "      <td>0.164235</td>\n",
        "      <td>0.004189</td>\n",
        "      <td>0.000769</td>\n",
        "      <td>0.013897</td>\n",
        "      <td>0.011332</td>\n",
        "      <td>0.042135</td>\n",
        "      <td>0.054182</td>\n",
        "      <td>...</td>\n",
        "      <td>-0.041510</td>\n",
        "      <td>0.006534</td>\n",
        "      <td>0.045681</td>\n",
        "      <td>0.027138</td>\n",
        "      <td>0.012683</td>\n",
        "      <td>0.020213</td>\n",
        "      <td>0.019227</td>\n",
        "      <td>0.003767</td>\n",
        "      <td>0.002611</td>\n",
        "      <td>0.028140</td>\n",
        "    </tr>\n",
        "    <tr>\n",
        "      <th>1361</th>\n",
        "      <td>0.079398</td>\n",
        "      <td>-0.732250</td>\n",
        "      <td>0.025314</td>\n",
        "      <td>0.152372</td>\n",
        "      <td>0.003397</td>\n",
        "      <td>0.005145</td>\n",
        "      <td>-0.112027</td>\n",
        "      <td>0.068550</td>\n",
        "      <td>0.005519</td>\n",
        "      <td>0.048445</td>\n",
        "      <td>...</td>\n",
        "      <td>-0.045151</td>\n",
        "      <td>0.036960</td>\n",
        "      <td>0.023091</td>\n",
        "      <td>0.011285</td>\n",
        "      <td>0.021670</td>\n",
        "      <td>-0.007307</td>\n",
        "      <td>-0.075850</td>\n",
        "      <td>0.028264</td>\n",
        "      <td>0.080511</td>\n",
        "      <td>0.097804</td>\n",
        "    </tr>\n",
        "    <tr>\n",
        "      <th>1326</th>\n",
        "      <td>0.126447</td>\n",
        "      <td>-1.040683</td>\n",
        "      <td>0.058737</td>\n",
        "      <td>0.150384</td>\n",
        "      <td>0.000495</td>\n",
        "      <td>0.004871</td>\n",
        "      <td>-0.014398</td>\n",
        "      <td>0.083641</td>\n",
        "      <td>0.026645</td>\n",
        "      <td>0.049534</td>\n",
        "      <td>...</td>\n",
        "      <td>-0.004586</td>\n",
        "      <td>-0.006327</td>\n",
        "      <td>0.025477</td>\n",
        "      <td>0.028732</td>\n",
        "      <td>0.012593</td>\n",
        "      <td>0.008934</td>\n",
        "      <td>-0.000209</td>\n",
        "      <td>0.014914</td>\n",
        "      <td>0.038657</td>\n",
        "      <td>0.103241</td>\n",
        "    </tr>\n",
        "    <tr>\n",
        "      <th>1438</th>\n",
        "      <td>0.126743</td>\n",
        "      <td>-5.233000</td>\n",
        "      <td>0.076425</td>\n",
        "      <td>0.150255</td>\n",
        "      <td>0.007470</td>\n",
        "      <td>0.006076</td>\n",
        "      <td>0.049627</td>\n",
        "      <td>0.019085</td>\n",
        "      <td>0.033734</td>\n",
        "      <td>0.070423</td>\n",
        "      <td>...</td>\n",
        "      <td>-0.027101</td>\n",
        "      <td>0.042979</td>\n",
        "      <td>0.000015</td>\n",
        "      <td>0.006772</td>\n",
        "      <td>0.013997</td>\n",
        "      <td>0.004701</td>\n",
        "      <td>-0.042936</td>\n",
        "      <td>-0.021613</td>\n",
        "      <td>0.035869</td>\n",
        "      <td>0.086493</td>\n",
        "    </tr>\n",
        "  </tbody>\n",
        "</table>\n",
        "<p>5 rows \u00d7 22 columns</p>\n",
        "</div>"
       ],
       "metadata": {},
       "output_type": "pyout",
       "prompt_number": 35,
       "text": [
        "       overall      pace       oor       dor      oorp      dorp     oastp  \\\n",
        "1112  0.160798 -1.345149  0.099359  0.183329  0.008495  0.008918  0.076447   \n",
        "1257  0.194379  2.644455  0.120464  0.164235  0.004189  0.000769  0.013897   \n",
        "1361  0.079398 -0.732250  0.025314  0.152372  0.003397  0.005145 -0.112027   \n",
        "1326  0.126447 -1.040683  0.058737  0.150384  0.000495  0.004871 -0.014398   \n",
        "1438  0.126743 -5.233000  0.076425  0.150255  0.007470  0.006076  0.049627   \n",
        "\n",
        "         dastp      ofgp      dfgp    ...         oftp      dftp     ostlp  \\\n",
        "1112  0.058798  0.048862  0.083488    ...    -0.021868  0.004059  0.006075   \n",
        "1257  0.011332  0.042135  0.054182    ...    -0.041510  0.006534  0.045681   \n",
        "1361  0.068550  0.005519  0.048445    ...    -0.045151  0.036960  0.023091   \n",
        "1326  0.083641  0.026645  0.049534    ...    -0.004586 -0.006327  0.025477   \n",
        "1438  0.019085  0.033734  0.070423    ...    -0.027101  0.042979  0.000015   \n",
        "\n",
        "         dstlp     oblkp     dblkp      o3pr      d3pr      oftr      dftr  \n",
        "1112  0.017715  0.013931  0.012341 -0.061144  0.047372  0.046161  0.087136  \n",
        "1257  0.027138  0.012683  0.020213  0.019227  0.003767  0.002611  0.028140  \n",
        "1361  0.011285  0.021670 -0.007307 -0.075850  0.028264  0.080511  0.097804  \n",
        "1326  0.028732  0.012593  0.008934 -0.000209  0.014914  0.038657  0.103241  \n",
        "1438  0.006772  0.013997  0.004701 -0.042936 -0.021613  0.035869  0.086493  \n",
        "\n",
        "[5 rows x 22 columns]"
       ]
      }
     ],
     "prompt_number": 35
    },
    {
     "cell_type": "markdown",
     "metadata": {},
     "source": [
      "#Comments\n",
      "1. How do these results look? Initial impression - very good. They track KenPom statistics, widely considered the cream of the crop for NCAA statistics, very closely for nearly all statistics\n",
      "\n",
      "2. Can they be improved? Yes.\n",
      "\n",
      "3. Find the lamba value for the Ridge Regression that optimizies accuracy either on regular season games (cross validation) or March Madness games.\n",
      "\n",
      "4. Perhaps weigh games that occur more recently, or are against tougher opponents, or are away (sample-weights parameter in Ridge)\n",
      "\n",
      "5. How do we use these? Random forest on all of them. \n",
      "6. Can we train on regular season data or do we have to only train on March Madness data? Good question, I think it is probably okay to train on regular season data but we may want to look into this.\n",
      "7. Would other data be useful? Potentially add in the seed they are for the tournament and their AP poll rankings from preseason to week prior to tournament. If we used seed that might restrict our training data to only tournament games?"
     ]
    },
    {
     "cell_type": "code",
     "collapsed": false,
     "input": [
      "year=2014\n",
      "schedule = bigdata\n",
      "schedule.head()"
     ],
     "language": "python",
     "metadata": {},
     "outputs": [
      {
       "html": [
        "<div style=\"max-width:1500px;overflow:auto;\">\n",
        "<table border=\"1\" class=\"dataframe\">\n",
        "  <thead>\n",
        "    <tr style=\"text-align: right;\">\n",
        "      <th></th>\n",
        "      <th>Season</th>\n",
        "      <th>Daynum</th>\n",
        "      <th>Wteam</th>\n",
        "      <th>Wscore</th>\n",
        "      <th>Lteam</th>\n",
        "      <th>Lscore</th>\n",
        "      <th>Wloc</th>\n",
        "      <th>Numot</th>\n",
        "      <th>Wfgm</th>\n",
        "      <th>Wfga</th>\n",
        "      <th>...</th>\n",
        "      <th>Wftp</th>\n",
        "      <th>Lftp</th>\n",
        "      <th>Wstlp</th>\n",
        "      <th>Lstlp</th>\n",
        "      <th>Wblkp</th>\n",
        "      <th>Lblkp</th>\n",
        "      <th>W3pr</th>\n",
        "      <th>L3pr</th>\n",
        "      <th>Wftr</th>\n",
        "      <th>Lftr</th>\n",
        "    </tr>\n",
        "  </thead>\n",
        "  <tbody>\n",
        "    <tr>\n",
        "      <th>0</th>\n",
        "      <td>2003</td>\n",
        "      <td>10</td>\n",
        "      <td>1104</td>\n",
        "      <td>68</td>\n",
        "      <td>1328</td>\n",
        "      <td>62</td>\n",
        "      <td>N</td>\n",
        "      <td>0</td>\n",
        "      <td>27</td>\n",
        "      <td>58</td>\n",
        "      <td>...</td>\n",
        "      <td>0.611111</td>\n",
        "      <td>0.727273</td>\n",
        "      <td>0.095238</td>\n",
        "      <td>0.122449</td>\n",
        "      <td>0.013605</td>\n",
        "      <td>0.027211</td>\n",
        "      <td>0.241379</td>\n",
        "      <td>0.188679</td>\n",
        "      <td>0.310345</td>\n",
        "      <td>0.415094</td>\n",
        "    </tr>\n",
        "    <tr>\n",
        "      <th>1</th>\n",
        "      <td>2003</td>\n",
        "      <td>10</td>\n",
        "      <td>1272</td>\n",
        "      <td>70</td>\n",
        "      <td>1393</td>\n",
        "      <td>63</td>\n",
        "      <td>N</td>\n",
        "      <td>0</td>\n",
        "      <td>26</td>\n",
        "      <td>62</td>\n",
        "      <td>...</td>\n",
        "      <td>0.526316</td>\n",
        "      <td>0.450000</td>\n",
        "      <td>0.058171</td>\n",
        "      <td>0.116342</td>\n",
        "      <td>0.058171</td>\n",
        "      <td>0.087257</td>\n",
        "      <td>0.322581</td>\n",
        "      <td>0.358209</td>\n",
        "      <td>0.306452</td>\n",
        "      <td>0.298507</td>\n",
        "    </tr>\n",
        "    <tr>\n",
        "      <th>2</th>\n",
        "      <td>2003</td>\n",
        "      <td>11</td>\n",
        "      <td>1266</td>\n",
        "      <td>73</td>\n",
        "      <td>1437</td>\n",
        "      <td>61</td>\n",
        "      <td>N</td>\n",
        "      <td>0</td>\n",
        "      <td>24</td>\n",
        "      <td>58</td>\n",
        "      <td>...</td>\n",
        "      <td>0.586207</td>\n",
        "      <td>0.608696</td>\n",
        "      <td>0.077101</td>\n",
        "      <td>0.030840</td>\n",
        "      <td>0.030840</td>\n",
        "      <td>0.077101</td>\n",
        "      <td>0.310345</td>\n",
        "      <td>0.356164</td>\n",
        "      <td>0.500000</td>\n",
        "      <td>0.315068</td>\n",
        "    </tr>\n",
        "    <tr>\n",
        "      <th>3</th>\n",
        "      <td>2003</td>\n",
        "      <td>11</td>\n",
        "      <td>1296</td>\n",
        "      <td>56</td>\n",
        "      <td>1457</td>\n",
        "      <td>50</td>\n",
        "      <td>N</td>\n",
        "      <td>0</td>\n",
        "      <td>18</td>\n",
        "      <td>38</td>\n",
        "      <td>...</td>\n",
        "      <td>0.548387</td>\n",
        "      <td>0.533333</td>\n",
        "      <td>0.239623</td>\n",
        "      <td>0.068464</td>\n",
        "      <td>0.034232</td>\n",
        "      <td>0.051348</td>\n",
        "      <td>0.236842</td>\n",
        "      <td>0.448980</td>\n",
        "      <td>0.815789</td>\n",
        "      <td>0.306122</td>\n",
        "    </tr>\n",
        "    <tr>\n",
        "      <th>4</th>\n",
        "      <td>2003</td>\n",
        "      <td>11</td>\n",
        "      <td>1400</td>\n",
        "      <td>77</td>\n",
        "      <td>1208</td>\n",
        "      <td>71</td>\n",
        "      <td>N</td>\n",
        "      <td>0</td>\n",
        "      <td>30</td>\n",
        "      <td>61</td>\n",
        "      <td>...</td>\n",
        "      <td>0.846154</td>\n",
        "      <td>0.629630</td>\n",
        "      <td>0.062500</td>\n",
        "      <td>0.109375</td>\n",
        "      <td>0.062500</td>\n",
        "      <td>0.015625</td>\n",
        "      <td>0.229508</td>\n",
        "      <td>0.258065</td>\n",
        "      <td>0.213115</td>\n",
        "      <td>0.435484</td>\n",
        "    </tr>\n",
        "  </tbody>\n",
        "</table>\n",
        "<p>5 rows \u00d7 56 columns</p>\n",
        "</div>"
       ],
       "metadata": {},
       "output_type": "pyout",
       "prompt_number": 67,
       "text": [
        "   Season  Daynum  Wteam  Wscore  Lteam  Lscore Wloc  Numot  Wfgm  Wfga  \\\n",
        "0    2003      10   1104      68   1328      62    N      0    27    58   \n",
        "1    2003      10   1272      70   1393      63    N      0    26    62   \n",
        "2    2003      11   1266      73   1437      61    N      0    24    58   \n",
        "3    2003      11   1296      56   1457      50    N      0    18    38   \n",
        "4    2003      11   1400      77   1208      71    N      0    30    61   \n",
        "\n",
        "     ...         Wftp      Lftp     Wstlp     Lstlp     Wblkp     Lblkp  \\\n",
        "0    ...     0.611111  0.727273  0.095238  0.122449  0.013605  0.027211   \n",
        "1    ...     0.526316  0.450000  0.058171  0.116342  0.058171  0.087257   \n",
        "2    ...     0.586207  0.608696  0.077101  0.030840  0.030840  0.077101   \n",
        "3    ...     0.548387  0.533333  0.239623  0.068464  0.034232  0.051348   \n",
        "4    ...     0.846154  0.629630  0.062500  0.109375  0.062500  0.015625   \n",
        "\n",
        "       W3pr      L3pr      Wftr      Lftr  \n",
        "0  0.241379  0.188679  0.310345  0.415094  \n",
        "1  0.322581  0.358209  0.306452  0.298507  \n",
        "2  0.310345  0.356164  0.500000  0.315068  \n",
        "3  0.236842  0.448980  0.815789  0.306122  \n",
        "4  0.229508  0.258065  0.213115  0.435484  \n",
        "\n",
        "[5 rows x 56 columns]"
       ]
      }
     ],
     "prompt_number": 67
    },
    {
     "cell_type": "code",
     "collapsed": false,
     "input": [
      "team1 = list(schedule.iloc[::2].Wteam)+ list(schedule.iloc[1::2].Lteam)\n",
      "team2 = list(schedule.iloc[::2].Lteam)+ list(schedule.iloc[1::2].Wteam)\n",
      "win = [1 for x in list(schedule.iloc[::2].Wteam)]+ [0 for x in list(schedule.iloc[1::2].Lteam)]\n",
      "margin = [x-y for x,y in zip(list(schedule.iloc[::2].Wscore),list(schedule.iloc[::2].Lscore))]+ [x-y for x,y in zip(list(schedule.iloc[::2].Lscore),list(schedule.iloc[::2].Wscore))]\n",
      "daynum = list(schedule.iloc[::2].Daynum)+ list(schedule.iloc[1::2].Daynum)\n",
      "loc = list(schedule.iloc[::2].Wloc)+ ['A' if x=='H' else 'H' if x=='A' else 'N' for x in list(schedule.iloc[1::2].Lteam)]\n",
      "season = list(schedule.iloc[::2].Season)+ list(schedule.iloc[1::2].Season)"
     ],
     "language": "python",
     "metadata": {},
     "outputs": [],
     "prompt_number": 81
    },
    {
     "cell_type": "code",
     "collapsed": false,
     "input": [
      "team1_stats = [team_database[str(x)][str(y)].values() for x,y in zip(team1,season)]\n",
      "team2_stats = [team_database[str(x)][str(y)].values() for x,y in zip(team2,season)]"
     ],
     "language": "python",
     "metadata": {},
     "outputs": [],
     "prompt_number": 82
    },
    {
     "cell_type": "code",
     "collapsed": false,
     "input": [
      "team_database['1200']['2013'].keys()"
     ],
     "language": "python",
     "metadata": {},
     "outputs": [
      {
       "metadata": {},
       "output_type": "pyout",
       "prompt_number": 46,
       "text": [
        "['oastp',\n",
        " 'oorp',\n",
        " 'dftp',\n",
        " 'oblkp',\n",
        " 'dfgp',\n",
        " 'ostlp',\n",
        " 'o3pr',\n",
        " 'd3pr',\n",
        " 'dstlp',\n",
        " 'dftr',\n",
        " 'ofg3p',\n",
        " 'dorp',\n",
        " 'ofgp',\n",
        " 'overall',\n",
        " 'oor',\n",
        " 'dblkp',\n",
        " 'oftr',\n",
        " 'oftp',\n",
        " 'dastp',\n",
        " 'pace',\n",
        " 'dor',\n",
        " 'dfg3p']"
       ]
      }
     ],
     "prompt_number": 46
    },
    {
     "cell_type": "code",
     "collapsed": false,
     "input": [
      "diff = [[team_database[str(x)][str(year)]['overall']-team_database[str(y)][str(year)]['overall'],\n",
      "  team_database[str(x)][str(year)]['oor']-team_database[str(y)][str(year)]['dor'],\n",
      "  team_database[str(x)][str(year)]['dor']-team_database[str(y)][str(year)]['oor'],\n",
      "  team_database[str(x)][str(year)]['pace']-team_database[str(y)][str(year)]['pace'],\n",
      "  team_database[str(x)][str(year)]['oorp']-team_database[str(y)][str(year)]['dorp'],\n",
      "  team_database[str(x)][str(year)]['dorp']-team_database[str(y)][str(year)]['oorp'],\n",
      "  team_database[str(x)][str(year)]['oastp']-team_database[str(y)][str(year)]['dastp'],\n",
      "  team_database[str(x)][str(year)]['dastp']-team_database[str(y)][str(year)]['oastp'],\n",
      "  team_database[str(x)][str(year)]['ofgp']-team_database[str(y)][str(year)]['dfgp'],\n",
      "  team_database[str(x)][str(year)]['dfgp']-team_database[str(y)][str(year)]['ofgp'],\n",
      "  team_database[str(x)][str(year)]['ofg3p']-team_database[str(y)][str(year)]['dfg3p'],\n",
      "  team_database[str(x)][str(year)]['dfg3p']-team_database[str(y)][str(year)]['ofg3p'],\n",
      "  team_database[str(x)][str(year)]['oftp']-team_database[str(y)][str(year)]['dftp'],\n",
      "  team_database[str(x)][str(year)]['dftp']-team_database[str(y)][str(year)]['oftp'],\n",
      "  team_database[str(x)][str(year)]['ostlp']-team_database[str(y)][str(year)]['dstlp'],\n",
      "  team_database[str(x)][str(year)]['dstlp']-team_database[str(y)][str(year)]['ostlp'],\n",
      "  team_database[str(x)][str(year)]['oblkp']-team_database[str(y)][str(year)]['dblkp'],\n",
      "  team_database[str(x)][str(year)]['dblkp']-team_database[str(y)][str(year)]['oblkp'],\n",
      "  team_database[str(x)][str(year)]['o3pr']-team_database[str(y)][str(year)]['d3pr'],\n",
      "  team_database[str(x)][str(year)]['d3pr']-team_database[str(y)][str(year)]['o3pr'],\n",
      "  team_database[str(x)][str(year)]['oftr']-team_database[str(y)][str(year)]['dftr'],\n",
      "  team_database[str(x)][str(year)]['dftr']-team_database[str(y)][str(year)]['oftr']] for x,y,year in zip(team1,team2,season)]"
     ],
     "language": "python",
     "metadata": {},
     "outputs": [],
     "prompt_number": 84
    },
    {
     "cell_type": "code",
     "collapsed": false,
     "input": [
      "comb = [[.5*team_database[str(x)][str(year)]['overall']+.5*team_database[str(y)][str(year)]['overall'],\n",
      "  .5*team_database[str(x)][str(year)]['oor']+.5*team_database[str(y)][str(year)]['dor'],\n",
      "  .5*team_database[str(x)][str(year)]['dor']+.5*team_database[str(y)][str(year)]['oor'],\n",
      "  .5*team_database[str(x)][str(year)]['pace']+.5*team_database[str(y)][str(year)]['pace'],\n",
      "  .5*team_database[str(x)][str(year)]['oorp']+.5*team_database[str(y)][str(year)]['dorp'],\n",
      "  .5*team_database[str(x)][str(year)]['dorp']+.5*team_database[str(y)][str(year)]['oorp'],\n",
      "  .5*team_database[str(x)][str(year)]['oastp']+.5*team_database[str(y)][str(year)]['dastp'],\n",
      "  .5*team_database[str(x)][str(year)]['dastp']+.5*team_database[str(y)][str(year)]['oastp'],\n",
      "  .5*team_database[str(x)][str(year)]['ofgp']+.5*team_database[str(y)][str(year)]['dfgp'],\n",
      "  .5*team_database[str(x)][str(year)]['dfgp']+.5*team_database[str(y)][str(year)]['ofgp'],\n",
      "  .5*team_database[str(x)][str(year)]['ofg3p']+.5*team_database[str(y)][str(year)]['dfg3p'],\n",
      "  .5*team_database[str(x)][str(year)]['dfg3p']+.5*team_database[str(y)][str(year)]['ofg3p'],\n",
      "  .5*team_database[str(x)][str(year)]['oftp']+.5*team_database[str(y)][str(year)]['dftp'],\n",
      "  .5*team_database[str(x)][str(year)]['dftp']+.5*team_database[str(y)][str(year)]['oftp'],\n",
      "  .5*team_database[str(x)][str(year)]['ostlp']+.5*team_database[str(y)][str(year)]['dstlp'],\n",
      "  .5*team_database[str(x)][str(year)]['dstlp']+.5*team_database[str(y)][str(year)]['ostlp'],\n",
      "  .5*team_database[str(x)][str(year)]['oblkp']+.5*team_database[str(y)][str(year)]['dblkp'],\n",
      "  .5*team_database[str(x)][str(year)]['dblkp']+.5*team_database[str(y)][str(year)]['oblkp'],\n",
      "  .5*team_database[str(x)][str(year)]['o3pr']+.5*team_database[str(y)][str(year)]['d3pr'],\n",
      "  .5*team_database[str(x)][str(year)]['d3pr']+.5*team_database[str(y)][str(year)]['o3pr'],\n",
      "  .5*team_database[str(x)][str(year)]['oftr']+.5*team_database[str(y)][str(year)]['dftr'],\n",
      "  .5*team_database[str(x)][str(year)]['dftr']+.5*team_database[str(y)][str(year)]['oftr']] for x,y,year in zip(team1,team2,season)]"
     ],
     "language": "python",
     "metadata": {},
     "outputs": [],
     "prompt_number": 85
    },
    {
     "cell_type": "code",
     "collapsed": false,
     "input": [
      "Xdata = pd.DataFrame(zip(team1,team2,daynum,loc,win,margin))\n",
      "Xdata.columns=['team1','team2','daynum','loc','result','margin']\n",
      "for col in [x+'_1' for x in team_database['1200']['2013'].keys()]:\n",
      "    Xdata[col] = 0\n",
      "Xdata[[x+'_1' for x in team_database['1200']['2013'].keys()]]=team1_stats\n",
      "for col in [x+'_2' for x in team_database['1200']['2013'].keys()]:\n",
      "    Xdata[col] = 0\n",
      "Xdata[[x+'_2' for x in team_database['1200']['2013'].keys()]]=team2_stats\n",
      "col_to_add = ['ovr','oor','dor','pace','oorp','dorp','oastp','dastp','ofgp','dfgp','ofg3p','dfg3p','oftp','dftp','ostlp','dstlp','oblkp','dblkp','o3pr','d3pr','oftr','dftr']\n",
      "for col in [x+'_diff' for x in col_to_add]:\n",
      "    Xdata[col] = 0\n",
      "Xdata[[x+'_diff' for x in col_to_add]]=diff\n",
      "for col in [x+'_comb' for x in col_to_add]:\n",
      "    Xdata[col] = 0\n",
      "Xdata[[x+'_comb' for x in col_to_add]]=comb\n"
     ],
     "language": "python",
     "metadata": {},
     "outputs": [],
     "prompt_number": 86
    },
    {
     "cell_type": "code",
     "collapsed": false,
     "input": [
      "Xdata.head()"
     ],
     "language": "python",
     "metadata": {},
     "outputs": [
      {
       "html": [
        "<div style=\"max-width:1500px;overflow:auto;\">\n",
        "<table border=\"1\" class=\"dataframe\">\n",
        "  <thead>\n",
        "    <tr style=\"text-align: right;\">\n",
        "      <th></th>\n",
        "      <th>team1</th>\n",
        "      <th>team2</th>\n",
        "      <th>daynum</th>\n",
        "      <th>loc</th>\n",
        "      <th>result</th>\n",
        "      <th>margin</th>\n",
        "      <th>oastp_1</th>\n",
        "      <th>oorp_1</th>\n",
        "      <th>dftp_1</th>\n",
        "      <th>oblkp_1</th>\n",
        "      <th>...</th>\n",
        "      <th>oftp_comb</th>\n",
        "      <th>dftp_comb</th>\n",
        "      <th>ostlp_comb</th>\n",
        "      <th>dstlp_comb</th>\n",
        "      <th>oblkp_comb</th>\n",
        "      <th>dblkp_comb</th>\n",
        "      <th>o3pr_comb</th>\n",
        "      <th>d3pr_comb</th>\n",
        "      <th>oftr_comb</th>\n",
        "      <th>dftr_comb</th>\n",
        "    </tr>\n",
        "  </thead>\n",
        "  <tbody>\n",
        "    <tr>\n",
        "      <th>0</th>\n",
        "      <td>1104</td>\n",
        "      <td>1328</td>\n",
        "      <td>10</td>\n",
        "      <td>N</td>\n",
        "      <td>1</td>\n",
        "      <td>6</td>\n",
        "      <td>-0.024006</td>\n",
        "      <td>0.043576</td>\n",
        "      <td>-0.018236</td>\n",
        "      <td>0.011322</td>\n",
        "      <td>...</td>\n",
        "      <td>0.020398</td>\n",
        "      <td>0.007018</td>\n",
        "      <td>0.009239</td>\n",
        "      <td>0.013960</td>\n",
        "      <td>0.010230</td>\n",
        "      <td>0.006638</td>\n",
        "      <td>0.025130</td>\n",
        "      <td>-0.010376</td>\n",
        "      <td>0.008268</td>\n",
        "      <td>0.012642</td>\n",
        "    </tr>\n",
        "    <tr>\n",
        "      <th>1</th>\n",
        "      <td>1266</td>\n",
        "      <td>1437</td>\n",
        "      <td>11</td>\n",
        "      <td>N</td>\n",
        "      <td>1</td>\n",
        "      <td>12</td>\n",
        "      <td>0.034953</td>\n",
        "      <td>0.078889</td>\n",
        "      <td>-0.003886</td>\n",
        "      <td>0.006260</td>\n",
        "      <td>...</td>\n",
        "      <td>0.037789</td>\n",
        "      <td>0.008328</td>\n",
        "      <td>0.001686</td>\n",
        "      <td>0.007618</td>\n",
        "      <td>0.007091</td>\n",
        "      <td>0.005749</td>\n",
        "      <td>-0.047670</td>\n",
        "      <td>-0.015255</td>\n",
        "      <td>-0.002001</td>\n",
        "      <td>0.022657</td>\n",
        "    </tr>\n",
        "    <tr>\n",
        "      <th>2</th>\n",
        "      <td>1400</td>\n",
        "      <td>1208</td>\n",
        "      <td>11</td>\n",
        "      <td>N</td>\n",
        "      <td>1</td>\n",
        "      <td>6</td>\n",
        "      <td>-0.026222</td>\n",
        "      <td>0.084723</td>\n",
        "      <td>0.048475</td>\n",
        "      <td>0.007267</td>\n",
        "      <td>...</td>\n",
        "      <td>0.012311</td>\n",
        "      <td>0.036736</td>\n",
        "      <td>0.009034</td>\n",
        "      <td>0.006690</td>\n",
        "      <td>0.008390</td>\n",
        "      <td>0.011597</td>\n",
        "      <td>-0.024410</td>\n",
        "      <td>-0.021264</td>\n",
        "      <td>0.038447</td>\n",
        "      <td>0.008943</td>\n",
        "    </tr>\n",
        "    <tr>\n",
        "      <th>3</th>\n",
        "      <td>1161</td>\n",
        "      <td>1236</td>\n",
        "      <td>12</td>\n",
        "      <td>H</td>\n",
        "      <td>1</td>\n",
        "      <td>18</td>\n",
        "      <td>0.027568</td>\n",
        "      <td>0.030328</td>\n",
        "      <td>0.013816</td>\n",
        "      <td>0.017301</td>\n",
        "      <td>...</td>\n",
        "      <td>0.009984</td>\n",
        "      <td>0.005354</td>\n",
        "      <td>-0.011057</td>\n",
        "      <td>-0.007561</td>\n",
        "      <td>0.014732</td>\n",
        "      <td>-0.002241</td>\n",
        "      <td>-0.035343</td>\n",
        "      <td>0.052410</td>\n",
        "      <td>0.044323</td>\n",
        "      <td>0.000453</td>\n",
        "    </tr>\n",
        "    <tr>\n",
        "      <th>4</th>\n",
        "      <td>1194</td>\n",
        "      <td>1156</td>\n",
        "      <td>12</td>\n",
        "      <td>N</td>\n",
        "      <td>1</td>\n",
        "      <td>5</td>\n",
        "      <td>-0.052750</td>\n",
        "      <td>0.005938</td>\n",
        "      <td>-0.026558</td>\n",
        "      <td>-0.000053</td>\n",
        "      <td>...</td>\n",
        "      <td>-0.007448</td>\n",
        "      <td>-0.026870</td>\n",
        "      <td>-0.002776</td>\n",
        "      <td>0.001095</td>\n",
        "      <td>0.000472</td>\n",
        "      <td>-0.001208</td>\n",
        "      <td>0.007621</td>\n",
        "      <td>0.004060</td>\n",
        "      <td>-0.023773</td>\n",
        "      <td>-0.058091</td>\n",
        "    </tr>\n",
        "  </tbody>\n",
        "</table>\n",
        "<p>5 rows \u00d7 94 columns</p>\n",
        "</div>"
       ],
       "metadata": {},
       "output_type": "pyout",
       "prompt_number": 87,
       "text": [
        "   team1  team2  daynum loc  result  margin   oastp_1    oorp_1    dftp_1  \\\n",
        "0   1104   1328      10   N       1       6 -0.024006  0.043576 -0.018236   \n",
        "1   1266   1437      11   N       1      12  0.034953  0.078889 -0.003886   \n",
        "2   1400   1208      11   N       1       6 -0.026222  0.084723  0.048475   \n",
        "3   1161   1236      12   H       1      18  0.027568  0.030328  0.013816   \n",
        "4   1194   1156      12   N       1       5 -0.052750  0.005938 -0.026558   \n",
        "\n",
        "    oblkp_1    ...      oftp_comb  dftp_comb  ostlp_comb  dstlp_comb  \\\n",
        "0  0.011322    ...       0.020398   0.007018    0.009239    0.013960   \n",
        "1  0.006260    ...       0.037789   0.008328    0.001686    0.007618   \n",
        "2  0.007267    ...       0.012311   0.036736    0.009034    0.006690   \n",
        "3  0.017301    ...       0.009984   0.005354   -0.011057   -0.007561   \n",
        "4 -0.000053    ...      -0.007448  -0.026870   -0.002776    0.001095   \n",
        "\n",
        "   oblkp_comb  dblkp_comb  o3pr_comb  d3pr_comb  oftr_comb  dftr_comb  \n",
        "0    0.010230    0.006638   0.025130  -0.010376   0.008268   0.012642  \n",
        "1    0.007091    0.005749  -0.047670  -0.015255  -0.002001   0.022657  \n",
        "2    0.008390    0.011597  -0.024410  -0.021264   0.038447   0.008943  \n",
        "3    0.014732   -0.002241  -0.035343   0.052410   0.044323   0.000453  \n",
        "4    0.000472   -0.001208   0.007621   0.004060  -0.023773  -0.058091  \n",
        "\n",
        "[5 rows x 94 columns]"
       ]
      }
     ],
     "prompt_number": 87
    },
    {
     "cell_type": "code",
     "collapsed": false,
     "input": [
      "import xgboost as xgb"
     ],
     "language": "python",
     "metadata": {},
     "outputs": [],
     "prompt_number": 88
    },
    {
     "cell_type": "code",
     "collapsed": false,
     "input": [
      "data = np.random.rand(5,10) # 5 entities, each contains 10 features\n",
      "label = np.random.randint(2, size=5) # binary target\n",
      "dtrain = xgb.DMatrix( data, label=label)"
     ],
     "language": "python",
     "metadata": {},
     "outputs": [],
     "prompt_number": 89
    },
    {
     "cell_type": "code",
     "collapsed": false,
     "input": [
      "X_train = Xdata.drop(['team1','team2','daynum','loc','result','margin'],axis=1)\n",
      "Y_train = Xdata['margin']>0\n",
      "T_train_xgb = xgb.DMatrix(X_train,Y_train)"
     ],
     "language": "python",
     "metadata": {},
     "outputs": [],
     "prompt_number": 173
    },
    {
     "cell_type": "code",
     "collapsed": false,
     "input": [
      "param = {'max_depth':6,'eta':.01,'subsample':0.8,\n",
      "              'colsample_bytree': 0.8,'silent':0}\n",
      "num_round = 1000\n",
      "xgb.cv(param, T_train_xgb, num_round, nfold=5,\n",
      "       metrics={'logloss'}, seed = 0)"
     ],
     "language": "python",
     "metadata": {},
     "outputs": [
      {
       "html": [
        "<div style=\"max-width:1500px;overflow:auto;\">\n",
        "<table border=\"1\" class=\"dataframe\">\n",
        "  <thead>\n",
        "    <tr style=\"text-align: right;\">\n",
        "      <th></th>\n",
        "      <th>test-logloss-mean</th>\n",
        "      <th>test-logloss-std</th>\n",
        "      <th>train-logloss-mean</th>\n",
        "      <th>train-logloss-std</th>\n",
        "    </tr>\n",
        "  </thead>\n",
        "  <tbody>\n",
        "    <tr>\n",
        "      <th>0</th>\n",
        "      <td>0.690091</td>\n",
        "      <td>0.000160</td>\n",
        "      <td>0.689986</td>\n",
        "      <td>0.000192</td>\n",
        "    </tr>\n",
        "    <tr>\n",
        "      <th>1</th>\n",
        "      <td>0.686932</td>\n",
        "      <td>0.000130</td>\n",
        "      <td>0.686750</td>\n",
        "      <td>0.000155</td>\n",
        "    </tr>\n",
        "    <tr>\n",
        "      <th>2</th>\n",
        "      <td>0.683872</td>\n",
        "      <td>0.000253</td>\n",
        "      <td>0.683600</td>\n",
        "      <td>0.000201</td>\n",
        "    </tr>\n",
        "    <tr>\n",
        "      <th>3</th>\n",
        "      <td>0.680790</td>\n",
        "      <td>0.000260</td>\n",
        "      <td>0.680456</td>\n",
        "      <td>0.000206</td>\n",
        "    </tr>\n",
        "    <tr>\n",
        "      <th>4</th>\n",
        "      <td>0.677855</td>\n",
        "      <td>0.000302</td>\n",
        "      <td>0.677423</td>\n",
        "      <td>0.000256</td>\n",
        "    </tr>\n",
        "    <tr>\n",
        "      <th>5</th>\n",
        "      <td>0.674928</td>\n",
        "      <td>0.000253</td>\n",
        "      <td>0.674421</td>\n",
        "      <td>0.000306</td>\n",
        "    </tr>\n",
        "    <tr>\n",
        "      <th>6</th>\n",
        "      <td>0.672205</td>\n",
        "      <td>0.000413</td>\n",
        "      <td>0.671600</td>\n",
        "      <td>0.000388</td>\n",
        "    </tr>\n",
        "    <tr>\n",
        "      <th>7</th>\n",
        "      <td>0.669408</td>\n",
        "      <td>0.000520</td>\n",
        "      <td>0.668716</td>\n",
        "      <td>0.000447</td>\n",
        "    </tr>\n",
        "    <tr>\n",
        "      <th>8</th>\n",
        "      <td>0.666641</td>\n",
        "      <td>0.000543</td>\n",
        "      <td>0.665873</td>\n",
        "      <td>0.000466</td>\n",
        "    </tr>\n",
        "    <tr>\n",
        "      <th>9</th>\n",
        "      <td>0.664135</td>\n",
        "      <td>0.000567</td>\n",
        "      <td>0.663261</td>\n",
        "      <td>0.000493</td>\n",
        "    </tr>\n",
        "    <tr>\n",
        "      <th>10</th>\n",
        "      <td>0.661408</td>\n",
        "      <td>0.000564</td>\n",
        "      <td>0.660451</td>\n",
        "      <td>0.000490</td>\n",
        "    </tr>\n",
        "    <tr>\n",
        "      <th>11</th>\n",
        "      <td>0.658923</td>\n",
        "      <td>0.000560</td>\n",
        "      <td>0.657882</td>\n",
        "      <td>0.000519</td>\n",
        "    </tr>\n",
        "    <tr>\n",
        "      <th>12</th>\n",
        "      <td>0.656361</td>\n",
        "      <td>0.000577</td>\n",
        "      <td>0.655233</td>\n",
        "      <td>0.000492</td>\n",
        "    </tr>\n",
        "    <tr>\n",
        "      <th>13</th>\n",
        "      <td>0.653789</td>\n",
        "      <td>0.000590</td>\n",
        "      <td>0.652595</td>\n",
        "      <td>0.000501</td>\n",
        "    </tr>\n",
        "    <tr>\n",
        "      <th>14</th>\n",
        "      <td>0.651373</td>\n",
        "      <td>0.000541</td>\n",
        "      <td>0.650087</td>\n",
        "      <td>0.000521</td>\n",
        "    </tr>\n",
        "    <tr>\n",
        "      <th>15</th>\n",
        "      <td>0.648946</td>\n",
        "      <td>0.000602</td>\n",
        "      <td>0.647576</td>\n",
        "      <td>0.000569</td>\n",
        "    </tr>\n",
        "    <tr>\n",
        "      <th>16</th>\n",
        "      <td>0.646608</td>\n",
        "      <td>0.000656</td>\n",
        "      <td>0.645147</td>\n",
        "      <td>0.000524</td>\n",
        "    </tr>\n",
        "    <tr>\n",
        "      <th>17</th>\n",
        "      <td>0.644285</td>\n",
        "      <td>0.000608</td>\n",
        "      <td>0.642737</td>\n",
        "      <td>0.000566</td>\n",
        "    </tr>\n",
        "    <tr>\n",
        "      <th>18</th>\n",
        "      <td>0.642030</td>\n",
        "      <td>0.000623</td>\n",
        "      <td>0.640397</td>\n",
        "      <td>0.000610</td>\n",
        "    </tr>\n",
        "    <tr>\n",
        "      <th>19</th>\n",
        "      <td>0.639765</td>\n",
        "      <td>0.000658</td>\n",
        "      <td>0.638053</td>\n",
        "      <td>0.000669</td>\n",
        "    </tr>\n",
        "    <tr>\n",
        "      <th>20</th>\n",
        "      <td>0.637580</td>\n",
        "      <td>0.000731</td>\n",
        "      <td>0.635781</td>\n",
        "      <td>0.000727</td>\n",
        "    </tr>\n",
        "    <tr>\n",
        "      <th>21</th>\n",
        "      <td>0.635449</td>\n",
        "      <td>0.000714</td>\n",
        "      <td>0.633558</td>\n",
        "      <td>0.000799</td>\n",
        "    </tr>\n",
        "    <tr>\n",
        "      <th>22</th>\n",
        "      <td>0.633345</td>\n",
        "      <td>0.000690</td>\n",
        "      <td>0.631381</td>\n",
        "      <td>0.000883</td>\n",
        "    </tr>\n",
        "    <tr>\n",
        "      <th>23</th>\n",
        "      <td>0.631245</td>\n",
        "      <td>0.000762</td>\n",
        "      <td>0.629202</td>\n",
        "      <td>0.000922</td>\n",
        "    </tr>\n",
        "    <tr>\n",
        "      <th>24</th>\n",
        "      <td>0.629142</td>\n",
        "      <td>0.000793</td>\n",
        "      <td>0.627026</td>\n",
        "      <td>0.000905</td>\n",
        "    </tr>\n",
        "    <tr>\n",
        "      <th>25</th>\n",
        "      <td>0.627148</td>\n",
        "      <td>0.000771</td>\n",
        "      <td>0.624940</td>\n",
        "      <td>0.000975</td>\n",
        "    </tr>\n",
        "    <tr>\n",
        "      <th>26</th>\n",
        "      <td>0.625186</td>\n",
        "      <td>0.000859</td>\n",
        "      <td>0.622896</td>\n",
        "      <td>0.001043</td>\n",
        "    </tr>\n",
        "    <tr>\n",
        "      <th>27</th>\n",
        "      <td>0.623250</td>\n",
        "      <td>0.000736</td>\n",
        "      <td>0.620880</td>\n",
        "      <td>0.000986</td>\n",
        "    </tr>\n",
        "    <tr>\n",
        "      <th>28</th>\n",
        "      <td>0.621400</td>\n",
        "      <td>0.000766</td>\n",
        "      <td>0.618943</td>\n",
        "      <td>0.001086</td>\n",
        "    </tr>\n",
        "    <tr>\n",
        "      <th>29</th>\n",
        "      <td>0.619527</td>\n",
        "      <td>0.000845</td>\n",
        "      <td>0.616987</td>\n",
        "      <td>0.001082</td>\n",
        "    </tr>\n",
        "    <tr>\n",
        "      <th>...</th>\n",
        "      <td>...</td>\n",
        "      <td>...</td>\n",
        "      <td>...</td>\n",
        "      <td>...</td>\n",
        "    </tr>\n",
        "    <tr>\n",
        "      <th>970</th>\n",
        "      <td>0.499070</td>\n",
        "      <td>0.003502</td>\n",
        "      <td>0.425746</td>\n",
        "      <td>0.001254</td>\n",
        "    </tr>\n",
        "    <tr>\n",
        "      <th>971</th>\n",
        "      <td>0.499088</td>\n",
        "      <td>0.003502</td>\n",
        "      <td>0.425698</td>\n",
        "      <td>0.001248</td>\n",
        "    </tr>\n",
        "    <tr>\n",
        "      <th>972</th>\n",
        "      <td>0.499084</td>\n",
        "      <td>0.003505</td>\n",
        "      <td>0.425648</td>\n",
        "      <td>0.001261</td>\n",
        "    </tr>\n",
        "    <tr>\n",
        "      <th>973</th>\n",
        "      <td>0.499099</td>\n",
        "      <td>0.003495</td>\n",
        "      <td>0.425592</td>\n",
        "      <td>0.001250</td>\n",
        "    </tr>\n",
        "    <tr>\n",
        "      <th>974</th>\n",
        "      <td>0.499111</td>\n",
        "      <td>0.003495</td>\n",
        "      <td>0.425556</td>\n",
        "      <td>0.001245</td>\n",
        "    </tr>\n",
        "    <tr>\n",
        "      <th>975</th>\n",
        "      <td>0.499118</td>\n",
        "      <td>0.003494</td>\n",
        "      <td>0.425506</td>\n",
        "      <td>0.001230</td>\n",
        "    </tr>\n",
        "    <tr>\n",
        "      <th>976</th>\n",
        "      <td>0.499120</td>\n",
        "      <td>0.003494</td>\n",
        "      <td>0.425463</td>\n",
        "      <td>0.001236</td>\n",
        "    </tr>\n",
        "    <tr>\n",
        "      <th>977</th>\n",
        "      <td>0.499123</td>\n",
        "      <td>0.003492</td>\n",
        "      <td>0.425422</td>\n",
        "      <td>0.001239</td>\n",
        "    </tr>\n",
        "    <tr>\n",
        "      <th>978</th>\n",
        "      <td>0.499128</td>\n",
        "      <td>0.003491</td>\n",
        "      <td>0.425389</td>\n",
        "      <td>0.001236</td>\n",
        "    </tr>\n",
        "    <tr>\n",
        "      <th>979</th>\n",
        "      <td>0.499133</td>\n",
        "      <td>0.003482</td>\n",
        "      <td>0.425341</td>\n",
        "      <td>0.001236</td>\n",
        "    </tr>\n",
        "    <tr>\n",
        "      <th>980</th>\n",
        "      <td>0.499140</td>\n",
        "      <td>0.003485</td>\n",
        "      <td>0.425304</td>\n",
        "      <td>0.001245</td>\n",
        "    </tr>\n",
        "    <tr>\n",
        "      <th>981</th>\n",
        "      <td>0.499143</td>\n",
        "      <td>0.003490</td>\n",
        "      <td>0.425257</td>\n",
        "      <td>0.001258</td>\n",
        "    </tr>\n",
        "    <tr>\n",
        "      <th>982</th>\n",
        "      <td>0.499147</td>\n",
        "      <td>0.003491</td>\n",
        "      <td>0.425211</td>\n",
        "      <td>0.001262</td>\n",
        "    </tr>\n",
        "    <tr>\n",
        "      <th>983</th>\n",
        "      <td>0.498744</td>\n",
        "      <td>0.002875</td>\n",
        "      <td>0.425153</td>\n",
        "      <td>0.001265</td>\n",
        "    </tr>\n",
        "    <tr>\n",
        "      <th>984</th>\n",
        "      <td>0.498751</td>\n",
        "      <td>0.002885</td>\n",
        "      <td>0.425122</td>\n",
        "      <td>0.001266</td>\n",
        "    </tr>\n",
        "    <tr>\n",
        "      <th>985</th>\n",
        "      <td>0.499171</td>\n",
        "      <td>0.003490</td>\n",
        "      <td>0.425081</td>\n",
        "      <td>0.001265</td>\n",
        "    </tr>\n",
        "    <tr>\n",
        "      <th>986</th>\n",
        "      <td>0.499178</td>\n",
        "      <td>0.003491</td>\n",
        "      <td>0.425042</td>\n",
        "      <td>0.001258</td>\n",
        "    </tr>\n",
        "    <tr>\n",
        "      <th>987</th>\n",
        "      <td>0.499181</td>\n",
        "      <td>0.003492</td>\n",
        "      <td>0.425000</td>\n",
        "      <td>0.001251</td>\n",
        "    </tr>\n",
        "    <tr>\n",
        "      <th>988</th>\n",
        "      <td>0.499191</td>\n",
        "      <td>0.003494</td>\n",
        "      <td>0.424948</td>\n",
        "      <td>0.001242</td>\n",
        "    </tr>\n",
        "    <tr>\n",
        "      <th>989</th>\n",
        "      <td>0.499192</td>\n",
        "      <td>0.003498</td>\n",
        "      <td>0.424896</td>\n",
        "      <td>0.001257</td>\n",
        "    </tr>\n",
        "    <tr>\n",
        "      <th>990</th>\n",
        "      <td>0.499201</td>\n",
        "      <td>0.003501</td>\n",
        "      <td>0.424847</td>\n",
        "      <td>0.001257</td>\n",
        "    </tr>\n",
        "    <tr>\n",
        "      <th>991</th>\n",
        "      <td>0.499209</td>\n",
        "      <td>0.003505</td>\n",
        "      <td>0.424809</td>\n",
        "      <td>0.001247</td>\n",
        "    </tr>\n",
        "    <tr>\n",
        "      <th>992</th>\n",
        "      <td>0.499211</td>\n",
        "      <td>0.003511</td>\n",
        "      <td>0.424768</td>\n",
        "      <td>0.001251</td>\n",
        "    </tr>\n",
        "    <tr>\n",
        "      <th>993</th>\n",
        "      <td>0.499224</td>\n",
        "      <td>0.003508</td>\n",
        "      <td>0.424720</td>\n",
        "      <td>0.001253</td>\n",
        "    </tr>\n",
        "    <tr>\n",
        "      <th>994</th>\n",
        "      <td>0.499225</td>\n",
        "      <td>0.003514</td>\n",
        "      <td>0.424662</td>\n",
        "      <td>0.001260</td>\n",
        "    </tr>\n",
        "    <tr>\n",
        "      <th>995</th>\n",
        "      <td>0.499237</td>\n",
        "      <td>0.003514</td>\n",
        "      <td>0.424630</td>\n",
        "      <td>0.001263</td>\n",
        "    </tr>\n",
        "    <tr>\n",
        "      <th>996</th>\n",
        "      <td>0.499241</td>\n",
        "      <td>0.003512</td>\n",
        "      <td>0.424577</td>\n",
        "      <td>0.001248</td>\n",
        "    </tr>\n",
        "    <tr>\n",
        "      <th>997</th>\n",
        "      <td>0.499254</td>\n",
        "      <td>0.003514</td>\n",
        "      <td>0.424525</td>\n",
        "      <td>0.001241</td>\n",
        "    </tr>\n",
        "    <tr>\n",
        "      <th>998</th>\n",
        "      <td>0.499255</td>\n",
        "      <td>0.003516</td>\n",
        "      <td>0.424479</td>\n",
        "      <td>0.001244</td>\n",
        "    </tr>\n",
        "    <tr>\n",
        "      <th>999</th>\n",
        "      <td>0.499259</td>\n",
        "      <td>0.003521</td>\n",
        "      <td>0.424430</td>\n",
        "      <td>0.001251</td>\n",
        "    </tr>\n",
        "  </tbody>\n",
        "</table>\n",
        "<p>1000 rows \u00d7 4 columns</p>\n",
        "</div>"
       ],
       "metadata": {},
       "output_type": "pyout",
       "prompt_number": 194,
       "text": [
        "     test-logloss-mean  test-logloss-std  train-logloss-mean  \\\n",
        "0             0.690091          0.000160            0.689986   \n",
        "1             0.686932          0.000130            0.686750   \n",
        "2             0.683872          0.000253            0.683600   \n",
        "3             0.680790          0.000260            0.680456   \n",
        "4             0.677855          0.000302            0.677423   \n",
        "5             0.674928          0.000253            0.674421   \n",
        "6             0.672205          0.000413            0.671600   \n",
        "7             0.669408          0.000520            0.668716   \n",
        "8             0.666641          0.000543            0.665873   \n",
        "9             0.664135          0.000567            0.663261   \n",
        "10            0.661408          0.000564            0.660451   \n",
        "11            0.658923          0.000560            0.657882   \n",
        "12            0.656361          0.000577            0.655233   \n",
        "13            0.653789          0.000590            0.652595   \n",
        "14            0.651373          0.000541            0.650087   \n",
        "15            0.648946          0.000602            0.647576   \n",
        "16            0.646608          0.000656            0.645147   \n",
        "17            0.644285          0.000608            0.642737   \n",
        "18            0.642030          0.000623            0.640397   \n",
        "19            0.639765          0.000658            0.638053   \n",
        "20            0.637580          0.000731            0.635781   \n",
        "21            0.635449          0.000714            0.633558   \n",
        "22            0.633345          0.000690            0.631381   \n",
        "23            0.631245          0.000762            0.629202   \n",
        "24            0.629142          0.000793            0.627026   \n",
        "25            0.627148          0.000771            0.624940   \n",
        "26            0.625186          0.000859            0.622896   \n",
        "27            0.623250          0.000736            0.620880   \n",
        "28            0.621400          0.000766            0.618943   \n",
        "29            0.619527          0.000845            0.616987   \n",
        "..                 ...               ...                 ...   \n",
        "970           0.499070          0.003502            0.425746   \n",
        "971           0.499088          0.003502            0.425698   \n",
        "972           0.499084          0.003505            0.425648   \n",
        "973           0.499099          0.003495            0.425592   \n",
        "974           0.499111          0.003495            0.425556   \n",
        "975           0.499118          0.003494            0.425506   \n",
        "976           0.499120          0.003494            0.425463   \n",
        "977           0.499123          0.003492            0.425422   \n",
        "978           0.499128          0.003491            0.425389   \n",
        "979           0.499133          0.003482            0.425341   \n",
        "980           0.499140          0.003485            0.425304   \n",
        "981           0.499143          0.003490            0.425257   \n",
        "982           0.499147          0.003491            0.425211   \n",
        "983           0.498744          0.002875            0.425153   \n",
        "984           0.498751          0.002885            0.425122   \n",
        "985           0.499171          0.003490            0.425081   \n",
        "986           0.499178          0.003491            0.425042   \n",
        "987           0.499181          0.003492            0.425000   \n",
        "988           0.499191          0.003494            0.424948   \n",
        "989           0.499192          0.003498            0.424896   \n",
        "990           0.499201          0.003501            0.424847   \n",
        "991           0.499209          0.003505            0.424809   \n",
        "992           0.499211          0.003511            0.424768   \n",
        "993           0.499224          0.003508            0.424720   \n",
        "994           0.499225          0.003514            0.424662   \n",
        "995           0.499237          0.003514            0.424630   \n",
        "996           0.499241          0.003512            0.424577   \n",
        "997           0.499254          0.003514            0.424525   \n",
        "998           0.499255          0.003516            0.424479   \n",
        "999           0.499259          0.003521            0.424430   \n",
        "\n",
        "     train-logloss-std  \n",
        "0             0.000192  \n",
        "1             0.000155  \n",
        "2             0.000201  \n",
        "3             0.000206  \n",
        "4             0.000256  \n",
        "5             0.000306  \n",
        "6             0.000388  \n",
        "7             0.000447  \n",
        "8             0.000466  \n",
        "9             0.000493  \n",
        "10            0.000490  \n",
        "11            0.000519  \n",
        "12            0.000492  \n",
        "13            0.000501  \n",
        "14            0.000521  \n",
        "15            0.000569  \n",
        "16            0.000524  \n",
        "17            0.000566  \n",
        "18            0.000610  \n",
        "19            0.000669  \n",
        "20            0.000727  \n",
        "21            0.000799  \n",
        "22            0.000883  \n",
        "23            0.000922  \n",
        "24            0.000905  \n",
        "25            0.000975  \n",
        "26            0.001043  \n",
        "27            0.000986  \n",
        "28            0.001086  \n",
        "29            0.001082  \n",
        "..                 ...  \n",
        "970           0.001254  \n",
        "971           0.001248  \n",
        "972           0.001261  \n",
        "973           0.001250  \n",
        "974           0.001245  \n",
        "975           0.001230  \n",
        "976           0.001236  \n",
        "977           0.001239  \n",
        "978           0.001236  \n",
        "979           0.001236  \n",
        "980           0.001245  \n",
        "981           0.001258  \n",
        "982           0.001262  \n",
        "983           0.001265  \n",
        "984           0.001266  \n",
        "985           0.001265  \n",
        "986           0.001258  \n",
        "987           0.001251  \n",
        "988           0.001242  \n",
        "989           0.001257  \n",
        "990           0.001257  \n",
        "991           0.001247  \n",
        "992           0.001251  \n",
        "993           0.001253  \n",
        "994           0.001260  \n",
        "995           0.001263  \n",
        "996           0.001248  \n",
        "997           0.001241  \n",
        "998           0.001244  \n",
        "999           0.001251  \n",
        "\n",
        "[1000 rows x 4 columns]"
       ]
      }
     ],
     "prompt_number": 194
    },
    {
     "cell_type": "code",
     "collapsed": false,
     "input": [
      "Y_train = Xdata['margin']>0\n",
      "X_train_xgb = xgb.DMatrix(X_train)\n",
      "Y_train_xgb = xgb.DMatrix(Y_train)"
     ],
     "language": "python",
     "metadata": {},
     "outputs": [],
     "prompt_number": 165
    },
    {
     "cell_type": "code",
     "collapsed": false,
     "input": [
      "model = xgb.XGBClassifier(learning_rate=0.01,max_depth=6,colsample_bytree=.8,subsample=.8,n_estimators=500)"
     ],
     "language": "python",
     "metadata": {},
     "outputs": [],
     "prompt_number": 195
    },
    {
     "cell_type": "code",
     "collapsed": false,
     "input": [
      "model.fit(X_train,Y_train)"
     ],
     "language": "python",
     "metadata": {},
     "outputs": [
      {
       "metadata": {},
       "output_type": "pyout",
       "prompt_number": 196,
       "text": [
        "XGBClassifier(base_score=0.5, colsample_bylevel=1, colsample_bytree=0.8,\n",
        "       gamma=0, learning_rate=0.01, max_delta_step=0, max_depth=6,\n",
        "       min_child_weight=1, missing=None, n_estimators=500, nthread=-1,\n",
        "       objective='binary:logistic', reg_alpha=0, reg_lambda=1,\n",
        "       scale_pos_weight=1, seed=0, silent=True, subsample=0.8)"
       ]
      }
     ],
     "prompt_number": 196
    },
    {
     "cell_type": "code",
     "collapsed": false,
     "input": [
      "test = pd.read_csv(\"TourneyCompactResults.csv\")\n",
      "test = test.ix[test.Season==2014]\n",
      "test.head()"
     ],
     "language": "python",
     "metadata": {},
     "outputs": [
      {
       "html": [
        "<div style=\"max-width:1500px;overflow:auto;\">\n",
        "<table border=\"1\" class=\"dataframe\">\n",
        "  <thead>\n",
        "    <tr style=\"text-align: right;\">\n",
        "      <th></th>\n",
        "      <th>Season</th>\n",
        "      <th>Daynum</th>\n",
        "      <th>Wteam</th>\n",
        "      <th>Wscore</th>\n",
        "      <th>Lteam</th>\n",
        "      <th>Lscore</th>\n",
        "      <th>Wloc</th>\n",
        "      <th>Numot</th>\n",
        "    </tr>\n",
        "  </thead>\n",
        "  <tbody>\n",
        "    <tr>\n",
        "      <th>1849</th>\n",
        "      <td>2014</td>\n",
        "      <td>134</td>\n",
        "      <td>1107</td>\n",
        "      <td>71</td>\n",
        "      <td>1291</td>\n",
        "      <td>64</td>\n",
        "      <td>N</td>\n",
        "      <td>0</td>\n",
        "    </tr>\n",
        "    <tr>\n",
        "      <th>1850</th>\n",
        "      <td>2014</td>\n",
        "      <td>134</td>\n",
        "      <td>1301</td>\n",
        "      <td>74</td>\n",
        "      <td>1462</td>\n",
        "      <td>59</td>\n",
        "      <td>N</td>\n",
        "      <td>0</td>\n",
        "    </tr>\n",
        "    <tr>\n",
        "      <th>1851</th>\n",
        "      <td>2014</td>\n",
        "      <td>135</td>\n",
        "      <td>1142</td>\n",
        "      <td>81</td>\n",
        "      <td>1411</td>\n",
        "      <td>69</td>\n",
        "      <td>N</td>\n",
        "      <td>0</td>\n",
        "    </tr>\n",
        "    <tr>\n",
        "      <th>1852</th>\n",
        "      <td>2014</td>\n",
        "      <td>135</td>\n",
        "      <td>1397</td>\n",
        "      <td>78</td>\n",
        "      <td>1234</td>\n",
        "      <td>65</td>\n",
        "      <td>N</td>\n",
        "      <td>1</td>\n",
        "    </tr>\n",
        "    <tr>\n",
        "      <th>1853</th>\n",
        "      <td>2014</td>\n",
        "      <td>136</td>\n",
        "      <td>1163</td>\n",
        "      <td>89</td>\n",
        "      <td>1386</td>\n",
        "      <td>81</td>\n",
        "      <td>N</td>\n",
        "      <td>1</td>\n",
        "    </tr>\n",
        "  </tbody>\n",
        "</table>\n",
        "</div>"
       ],
       "metadata": {},
       "output_type": "pyout",
       "prompt_number": 137,
       "text": [
        "      Season  Daynum  Wteam  Wscore  Lteam  Lscore Wloc  Numot\n",
        "1849    2014     134   1107      71   1291      64    N      0\n",
        "1850    2014     134   1301      74   1462      59    N      0\n",
        "1851    2014     135   1142      81   1411      69    N      0\n",
        "1852    2014     135   1397      78   1234      65    N      1\n",
        "1853    2014     136   1163      89   1386      81    N      1"
       ]
      }
     ],
     "prompt_number": 137
    },
    {
     "cell_type": "code",
     "collapsed": false,
     "input": [
      "team1 = test.Wteam\n",
      "team2 = test.Lteam\n",
      "season = test.Season\n",
      "team1_stats = [team_database[str(x)][str(y)].values() for x,y in zip(team1,season)]\n",
      "team2_stats = [team_database[str(x)][str(y)].values() for x,y in zip(team2,season)]"
     ],
     "language": "python",
     "metadata": {},
     "outputs": [],
     "prompt_number": 138
    },
    {
     "cell_type": "code",
     "collapsed": false,
     "input": [
      "diff = [[team_database[str(x)][str(year)]['overall']-team_database[str(y)][str(year)]['overall'],\n",
      "  team_database[str(x)][str(year)]['oor']-team_database[str(y)][str(year)]['dor'],\n",
      "  team_database[str(x)][str(year)]['dor']-team_database[str(y)][str(year)]['oor'],\n",
      "  team_database[str(x)][str(year)]['pace']-team_database[str(y)][str(year)]['pace'],\n",
      "  team_database[str(x)][str(year)]['oorp']-team_database[str(y)][str(year)]['dorp'],\n",
      "  team_database[str(x)][str(year)]['dorp']-team_database[str(y)][str(year)]['oorp'],\n",
      "  team_database[str(x)][str(year)]['oastp']-team_database[str(y)][str(year)]['dastp'],\n",
      "  team_database[str(x)][str(year)]['dastp']-team_database[str(y)][str(year)]['oastp'],\n",
      "  team_database[str(x)][str(year)]['ofgp']-team_database[str(y)][str(year)]['dfgp'],\n",
      "  team_database[str(x)][str(year)]['dfgp']-team_database[str(y)][str(year)]['ofgp'],\n",
      "  team_database[str(x)][str(year)]['ofg3p']-team_database[str(y)][str(year)]['dfg3p'],\n",
      "  team_database[str(x)][str(year)]['dfg3p']-team_database[str(y)][str(year)]['ofg3p'],\n",
      "  team_database[str(x)][str(year)]['oftp']-team_database[str(y)][str(year)]['dftp'],\n",
      "  team_database[str(x)][str(year)]['dftp']-team_database[str(y)][str(year)]['oftp'],\n",
      "  team_database[str(x)][str(year)]['ostlp']-team_database[str(y)][str(year)]['dstlp'],\n",
      "  team_database[str(x)][str(year)]['dstlp']-team_database[str(y)][str(year)]['ostlp'],\n",
      "  team_database[str(x)][str(year)]['oblkp']-team_database[str(y)][str(year)]['dblkp'],\n",
      "  team_database[str(x)][str(year)]['dblkp']-team_database[str(y)][str(year)]['oblkp'],\n",
      "  team_database[str(x)][str(year)]['o3pr']-team_database[str(y)][str(year)]['d3pr'],\n",
      "  team_database[str(x)][str(year)]['d3pr']-team_database[str(y)][str(year)]['o3pr'],\n",
      "  team_database[str(x)][str(year)]['oftr']-team_database[str(y)][str(year)]['dftr'],\n",
      "  team_database[str(x)][str(year)]['dftr']-team_database[str(y)][str(year)]['oftr']] for x,y,year in zip(team1,team2,season)]"
     ],
     "language": "python",
     "metadata": {},
     "outputs": [],
     "prompt_number": 139
    },
    {
     "cell_type": "code",
     "collapsed": false,
     "input": [
      "comb = [[.5*team_database[str(x)][str(year)]['overall']+.5*team_database[str(y)][str(year)]['overall'],\n",
      "  .5*team_database[str(x)][str(year)]['oor']+.5*team_database[str(y)][str(year)]['dor'],\n",
      "  .5*team_database[str(x)][str(year)]['dor']+.5*team_database[str(y)][str(year)]['oor'],\n",
      "  .5*team_database[str(x)][str(year)]['pace']+.5*team_database[str(y)][str(year)]['pace'],\n",
      "  .5*team_database[str(x)][str(year)]['oorp']+.5*team_database[str(y)][str(year)]['dorp'],\n",
      "  .5*team_database[str(x)][str(year)]['dorp']+.5*team_database[str(y)][str(year)]['oorp'],\n",
      "  .5*team_database[str(x)][str(year)]['oastp']+.5*team_database[str(y)][str(year)]['dastp'],\n",
      "  .5*team_database[str(x)][str(year)]['dastp']+.5*team_database[str(y)][str(year)]['oastp'],\n",
      "  .5*team_database[str(x)][str(year)]['ofgp']+.5*team_database[str(y)][str(year)]['dfgp'],\n",
      "  .5*team_database[str(x)][str(year)]['dfgp']+.5*team_database[str(y)][str(year)]['ofgp'],\n",
      "  .5*team_database[str(x)][str(year)]['ofg3p']+.5*team_database[str(y)][str(year)]['dfg3p'],\n",
      "  .5*team_database[str(x)][str(year)]['dfg3p']+.5*team_database[str(y)][str(year)]['ofg3p'],\n",
      "  .5*team_database[str(x)][str(year)]['oftp']+.5*team_database[str(y)][str(year)]['dftp'],\n",
      "  .5*team_database[str(x)][str(year)]['dftp']+.5*team_database[str(y)][str(year)]['oftp'],\n",
      "  .5*team_database[str(x)][str(year)]['ostlp']+.5*team_database[str(y)][str(year)]['dstlp'],\n",
      "  .5*team_database[str(x)][str(year)]['dstlp']+.5*team_database[str(y)][str(year)]['ostlp'],\n",
      "  .5*team_database[str(x)][str(year)]['oblkp']+.5*team_database[str(y)][str(year)]['dblkp'],\n",
      "  .5*team_database[str(x)][str(year)]['dblkp']+.5*team_database[str(y)][str(year)]['oblkp'],\n",
      "  .5*team_database[str(x)][str(year)]['o3pr']+.5*team_database[str(y)][str(year)]['d3pr'],\n",
      "  .5*team_database[str(x)][str(year)]['d3pr']+.5*team_database[str(y)][str(year)]['o3pr'],\n",
      "  .5*team_database[str(x)][str(year)]['oftr']+.5*team_database[str(y)][str(year)]['dftr'],\n",
      "  .5*team_database[str(x)][str(year)]['dftr']+.5*team_database[str(y)][str(year)]['oftr']] for x,y,year in zip(team1,team2,season)]"
     ],
     "language": "python",
     "metadata": {},
     "outputs": [],
     "prompt_number": 140
    },
    {
     "cell_type": "code",
     "collapsed": false,
     "input": [
      "Xtest = pd.DataFrame(zip(team1,team2))\n",
      "Xtest.columns=['team1','team2']\n",
      "for col in [x+'_1' for x in team_database['1200']['2013'].keys()]:\n",
      "    Xtest[col] = 0\n",
      "Xtest[[x+'_1' for x in team_database['1200']['2013'].keys()]]=team1_stats\n",
      "for col in [x+'_2' for x in team_database['1200']['2013'].keys()]:\n",
      "    Xtest[col] = 0\n",
      "Xtest[[x+'_2' for x in team_database['1200']['2013'].keys()]]=team2_stats\n",
      "col_to_add = ['ovr','oor','dor','pace','oorp','dorp','oastp','dastp','ofgp','dfgp','ofg3p','dfg3p','oftp','dftp','ostlp','dstlp','oblkp','dblkp','o3pr','d3pr','oftr','dftr']\n",
      "for col in [x+'_diff' for x in col_to_add]:\n",
      "    Xtest[col] = 0\n",
      "Xtest[[x+'_diff' for x in col_to_add]]=diff\n",
      "for col in [x+'_comb' for x in col_to_add]:\n",
      "    Xtest[col] = 0\n",
      "Xtest[[x+'_comb' for x in col_to_add]]=comb\n",
      "X_test = Xtest.drop(['team1','team2'],axis=1)"
     ],
     "language": "python",
     "metadata": {},
     "outputs": [],
     "prompt_number": 141
    },
    {
     "cell_type": "code",
     "collapsed": false,
     "input": [
      "preds = model.predict(X_test)\n",
      "import scipy\n",
      "probs = [np.log(scipy.stats.norm(0,10.5).cdf(x)) for x in preds]"
     ],
     "language": "python",
     "metadata": {},
     "outputs": [],
     "prompt_number": 168
    },
    {
     "cell_type": "code",
     "collapsed": false,
     "input": [
      "preds = model.predict_proba(X_test)\n",
      "probs = [np.log(x[1]) for x in preds]"
     ],
     "language": "python",
     "metadata": {},
     "outputs": [],
     "prompt_number": 199
    },
    {
     "cell_type": "code",
     "collapsed": false,
     "input": [
      "import matplotlib.pyplot as plt"
     ],
     "language": "python",
     "metadata": {},
     "outputs": [],
     "prompt_number": 126
    },
    {
     "cell_type": "code",
     "collapsed": false,
     "input": [],
     "language": "python",
     "metadata": {},
     "outputs": [],
     "prompt_number": 148
    },
    {
     "cell_type": "code",
     "collapsed": false,
     "input": [
      "plt.hist(probs, normed=1, facecolor='green', alpha=0.75)\n",
      "plt.show()"
     ],
     "language": "python",
     "metadata": {},
     "outputs": [],
     "prompt_number": 132
    },
    {
     "cell_type": "code",
     "collapsed": false,
     "input": [
      "reduce(lambda x, y: x + y, probs) / len(probs)"
     ],
     "language": "python",
     "metadata": {},
     "outputs": [
      {
       "metadata": {},
       "output_type": "pyout",
       "prompt_number": 200,
       "text": [
        "-0.55627589439278213"
       ]
      }
     ],
     "prompt_number": 200
    }
   ],
   "metadata": {}
  }
 ]
}